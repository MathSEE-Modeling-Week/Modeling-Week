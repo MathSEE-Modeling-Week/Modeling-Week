{
 "cells": [
  {
   "cell_type": "code",
   "execution_count": null,
   "id": "86615b66-d688-4aea-976c-4b227dac4fe2",
   "metadata": {},
   "outputs": [
    {
     "name": "stdout",
     "output_type": "stream",
     "text": [
      "======== Running on http://0.0.0.0:4242 ========\n",
      "(Press CTRL+C to quit)\n"
     ]
    }
   ],
   "source": [
    "import nest_asyncio\n",
    "nest_asyncio.apply()\n",
    "import numpy as np\n",
    "import math\n",
    "import matplotlib.pyplot as plt\n",
    "import scipy.integrate as integrate\n",
    "import scipy.special as special\n",
    "from mpl_toolkits.mplot3d import axes3d\n",
    "from numpy import exp,arange\n",
    "from pylab import meshgrid,cm,imshow,contour,clabel,colorbar,axis,title,show\n",
    "import numpy\n",
    "import umbridge\n",
    "\n",
    "class PDEModel(umbridge.Model):\n",
    "    \n",
    "    def __init__(self):\n",
    "        super().__init__(\"forward\")\n",
    "        self.number = 10\n",
    "        self.H = 8\n",
    "        self.L = 8\n",
    "        \n",
    "    def get_input_sizes(self, config):\n",
    "        return [2]  # for the inputs x and y\n",
    "        \n",
    "    def get_output_sizes(self, config):\n",
    "        return [1]  # for the output u(x,y)\n",
    "        \n",
    "    def __call__(self, parameters, config):\n",
    "        x= parameters[0][0]\n",
    "        y= parameters[0][1]\n",
    "        return [[self.u(x, y, config)]]\n",
    "        \n",
    "    #initial condition\n",
    "    def g(self, y, config):\n",
    "        return 100 * math.sin((math.pi/8) * y )\n",
    "        \n",
    "    #function for finding the coefficient A_n\n",
    "    def A(self, m, config):\n",
    "        B_int = integrate.quad(lambda y: self.g(y, config) * math.sin(m * math.pi * y /self.H ), 0, self.H)\n",
    "        return (2 / (self.H**2 * math.sinh(m * math.pi * self.L /self.H ))) * B_int[0]\n",
    "        \n",
    "    #total solution u(x,y)\n",
    "    def u(self, x, y, config):\n",
    "        tem_sum=0\n",
    "        for m in range(1, self.number):\n",
    "            ah = ( self.A(m, config) * np.sinh(m * math.pi * x /self.H ) * np.sin(m * math.pi * y /self.H ) )\n",
    "            tem_sum = tem_sum + ah\n",
    "        return tem_sum\n",
    "        \n",
    "    #def supports_evaluate(self):\n",
    "        #return True\n",
    "        \n",
    "pde_model = PDEModel()\n",
    "umbridge.serve_models([pde_model], 4243)"
   ]
  },
  {
   "cell_type": "code",
   "execution_count": null,
   "id": "5f6f8db6-0fa4-473e-bbea-6c59c6924ee9",
   "metadata": {},
   "outputs": [],
   "source": []
  }
 ],
 "metadata": {
  "kernelspec": {
   "display_name": "Python 3 (ipykernel)",
   "language": "python",
   "name": "python3"
  },
  "language_info": {
   "codemirror_mode": {
    "name": "ipython",
    "version": 3
   },
   "file_extension": ".py",
   "mimetype": "text/x-python",
   "name": "python",
   "nbconvert_exporter": "python",
   "pygments_lexer": "ipython3",
   "version": "3.10.12"
  }
 },
 "nbformat": 4,
 "nbformat_minor": 5
}
