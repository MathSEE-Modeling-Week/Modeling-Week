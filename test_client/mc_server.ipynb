{
 "cells": [
  {
   "cell_type": "code",
   "execution_count": null,
   "id": "2c11e57b-5e56-474c-9b2c-a6069d44321e",
   "metadata": {},
   "outputs": [
    {
     "name": "stdout",
     "output_type": "stream",
     "text": [
      "======== Running on http://0.0.0.0:4243 ========\n",
      "(Press CTRL+C to quit)\n"
     ]
    }
   ],
   "source": [
    "import nest_asyncio\n",
    "nest_asyncio.apply()\n",
    "import numpy as np\n",
    "import umbridge\n",
    "import time\n",
    "import os\n",
    "\n",
    "class Testmodel(umbridge.Model):# Define the 1D model function f(x)=sin(2*pi*x)\n",
    "\n",
    "    def __init__(self):\n",
    "        super().__init__(\"forward\")\n",
    "\n",
    "    def get_input_sizes(self, config):\n",
    "        return [1]\n",
    "\n",
    "    def get_output_sizes(self, config):\n",
    "        return [1]\n",
    "\n",
    "    def __call__(self, parameters, config):\n",
    "        # Sleep for number of milliseconds defined in env var\n",
    "        #time.sleep(int(os.getenv(\"TEST_DELAY\", 0)) / 1000)\n",
    "\n",
    "        #posterior = np.sin(2 * np.pi * parameters[0][0])\n",
    "        posterior = 2*np.pi*parameters[0][0]\n",
    "        return [[posterior]]\n",
    "\n",
    "    def supports_evaluate(self):\n",
    "        return True\n",
    "\n",
    "testmodel = Testmodel()\n",
    "\n",
    "umbridge.serve_models([testmodel], 4243) # start model server"
   ]
  },
  {
   "cell_type": "code",
   "execution_count": null,
   "id": "a7397b6e-1a16-432b-bddd-ba865f7ec74b",
   "metadata": {},
   "outputs": [],
   "source": []
  }
 ],
 "metadata": {
  "kernelspec": {
   "display_name": "Python 3 (ipykernel)",
   "language": "python",
   "name": "python3"
  },
  "language_info": {
   "codemirror_mode": {
    "name": "ipython",
    "version": 3
   },
   "file_extension": ".py",
   "mimetype": "text/x-python",
   "name": "python",
   "nbconvert_exporter": "python",
   "pygments_lexer": "ipython3",
   "version": "3.10.12"
  }
 },
 "nbformat": 4,
 "nbformat_minor": 5
}
