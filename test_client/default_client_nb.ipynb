{
 "cells": [
  {
   "cell_type": "code",
   "execution_count": 2,
   "id": "9e0eb9e6-191d-4d2f-a4f1-d46883019784",
   "metadata": {},
   "outputs": [
    {
     "name": "stdout",
     "output_type": "stream",
     "text": [
      "[[0.2]]\n"
     ]
    }
   ],
   "source": [
    "import umbridge\n",
    "\n",
    "model = umbridge.HTTPModel(\"http://localhost:4243\", \"forward\")\n",
    "\n",
    "one_row_list = [[0.1 for _ in range(model.get_input_sizes()[0])]]\n",
    "\n",
    "model(one_row_list)\n",
    "\n",
    "print(model(one_row_list))\n"
   ]
  },
  {
   "cell_type": "code",
   "execution_count": null,
   "id": "eaef4674-edbd-44db-a148-33f75046fe66",
   "metadata": {},
   "outputs": [],
   "source": []
  }
 ],
 "metadata": {
  "kernelspec": {
   "display_name": "Python 3 (ipykernel)",
   "language": "python",
   "name": "python3"
  },
  "language_info": {
   "codemirror_mode": {
    "name": "ipython",
    "version": 3
   },
   "file_extension": ".py",
   "mimetype": "text/x-python",
   "name": "python",
   "nbconvert_exporter": "python",
   "pygments_lexer": "ipython3",
   "version": "3.10.12"
  }
 },
 "nbformat": 4,
 "nbformat_minor": 5
}
