{
 "cells": [
  {
   "cell_type": "code",
   "execution_count": null,
   "id": "3e44d202-6d3a-405e-9087-363c492cbaa9",
   "metadata": {},
   "outputs": [
    {
     "name": "stdout",
     "output_type": "stream",
     "text": [
      "======== Running on http://0.0.0.0:4242 ========\n",
      "(Press CTRL+C to quit)\n"
     ]
    }
   ],
   "source": [
    "import nest_asyncio\n",
    "nest_asyncio.apply()\n",
    "import umbridge\n",
    "\n",
    "class MinimalServer(umbridge.Model):\n",
    "\n",
    "    def __init__(self):\n",
    "        super().__init__(\"posterior\")\n",
    "\n",
    "    def get_input_sizes(self, config):\n",
    "        return [2]\n",
    "\n",
    "    def get_output_sizes(self, config):\n",
    "        return [1]\n",
    "\n",
    "    def __call__(self, parameters, config):\n",
    "\n",
    "        x = parameters[0][0]\n",
    "        y = parameters[0][1]\n",
    "        z = x+y\n",
    "        return [[z]]\n",
    "\n",
    "\n",
    "    def supports_evaluate(self):\n",
    "        return True\n",
    "\n",
    "model = MinimalServer()\n",
    "\n",
    "umbridge.serve_models([model], 4242)"
   ]
  },
  {
   "cell_type": "code",
   "execution_count": null,
   "id": "b051e4df-3c33-436d-bc82-6fb5f0887d70",
   "metadata": {},
   "outputs": [],
   "source": []
  }
 ],
 "metadata": {
  "kernelspec": {
   "display_name": "Python 3 (ipykernel)",
   "language": "python",
   "name": "python3"
  },
  "language_info": {
   "codemirror_mode": {
    "name": "ipython",
    "version": 3
   },
   "file_extension": ".py",
   "mimetype": "text/x-python",
   "name": "python",
   "nbconvert_exporter": "python",
   "pygments_lexer": "ipython3",
   "version": "3.10.12"
  }
 },
 "nbformat": 4,
 "nbformat_minor": 5
}
