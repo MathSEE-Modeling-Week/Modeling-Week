{
 "cells": [
  {
   "cell_type": "code",
   "execution_count": 2,
   "id": "638d08fb-e09e-4143-9e47-60716392050a",
   "metadata": {},
   "outputs": [
    {
     "name": "stdout",
     "output_type": "stream",
     "text": [
      "======== Running on http://0.0.0.0:4243 ========\n",
      "(Press CTRL+C to quit)\n"
     ]
    }
   ],
   "source": [
    "import nest_asyncio\n",
    "nest_asyncio.apply()\n",
    "import umbridge\n",
    "import numpy as np\n",
    "from scipy.stats import multivariate_normal\n",
    "import sys\n",
    "import time\n",
    "\n",
    "# Inspired by https://github.com/chi-feng/mcmc-demo\n",
    "\n",
    "class GaussianMixture(umbridge.Model):\n",
    "\n",
    "    def __init__(self):\n",
    "        super().__init__(\"posterior\")\n",
    "\n",
    "    def get_input_sizes(self, config):\n",
    "        return [2]\n",
    "\n",
    "    def get_output_sizes(self, config):\n",
    "        return [1]\n",
    "\n",
    "    def __call__(self, parameters, config):\n",
    "        #time.sleep(0.1)\n",
    "        dens1 = multivariate_normal.pdf(parameters[0], [-1.5, -1.5], 0.8)\n",
    "        dens2 = multivariate_normal.pdf(parameters[0], [1.5, 1.5], 0.8)\n",
    "        dens3 = multivariate_normal.pdf(parameters[0], [-2, 2], 0.5)\n",
    "\n",
    "        if dens1 + dens2 + dens3 == 0: # log(0) not defined, so return minimal float value\n",
    "            return [[ sys.float_info.min ]]\n",
    "        return [[ np.log(dens1 + dens2 + dens3) ]]\n",
    "\n",
    "    def supports_evaluate(self):\n",
    "        return True\n",
    "\n",
    "    def gradient(self, out_wrt, in_wrt, parameters, sens, config):\n",
    "        return [self.apply_jacobian(out_wrt, in_wrt, parameters, [sens[0], 0], config)[0],\n",
    "                self.apply_jacobian(out_wrt, in_wrt, parameters, [0, sens[0]], config)[0]]\n",
    "\n",
    "    def supports_gradient(self):\n",
    "        return True\n",
    "\n",
    "    def apply_jacobian(self, out_wrt, in_wrt, parameters, vec, config):\n",
    "        dens1 = multivariate_normal.pdf(parameters[0], [-1.5, -1.5], 0.8)\n",
    "        dens2 = multivariate_normal.pdf(parameters[0], [1.5, 1.5], 0.8)\n",
    "        dens3 = multivariate_normal.pdf(parameters[0], [-2, 2], 0.5)\n",
    "\n",
    "        if dens1 + dens2 + dens3 == 0: # Return zero in log(0) case above\n",
    "            return [0]\n",
    "\n",
    "        return [- vec[0] / (dens1 + dens2 + dens3)\n",
    "                         * (dens1 * (parameters[0][0] - -1.5) / 0.8\n",
    "                         + dens2 * (parameters[0][0] - 1.5) / 0.8\n",
    "                         + dens3 * (parameters[0][0] - -2) / 0.5)\n",
    "                - vec[1] / (dens1 + dens2 + dens3)\n",
    "                         * (dens1 * (parameters[0][1] - -1.5) / 0.8\n",
    "                         + dens2 * (parameters[0][1] - 1.5) / 0.8\n",
    "                         + dens3 * (parameters[0][1] - 2) / 0.5)\n",
    "              ]\n",
    "\n",
    "    def supports_apply_jacobian(self):\n",
    "        return True\n",
    "\n",
    "model = GaussianMixture()\n",
    "\n",
    "umbridge.serve_models([model], 4243)"
   ]
  },
  {
   "cell_type": "code",
   "execution_count": null,
   "id": "ed867e2c-19de-4bad-9af5-2e3baad7d3a7",
   "metadata": {},
   "outputs": [],
   "source": []
  }
 ],
 "metadata": {
  "kernelspec": {
   "display_name": "Python 3 (ipykernel)",
   "language": "python",
   "name": "python3"
  },
  "language_info": {
   "codemirror_mode": {
    "name": "ipython",
    "version": 3
   },
   "file_extension": ".py",
   "mimetype": "text/x-python",
   "name": "python",
   "nbconvert_exporter": "python",
   "pygments_lexer": "ipython3",
   "version": "3.10.12"
  }
 },
 "nbformat": 4,
 "nbformat_minor": 5
}
