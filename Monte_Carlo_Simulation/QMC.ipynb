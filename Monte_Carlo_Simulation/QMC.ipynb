{
 "cells": [
  {
   "cell_type": "markdown",
   "id": "5af545ac",
   "metadata": {},
   "source": [
    "# 2. Quasi Monte Carlo Methods\n",
    "\n",
    "## 2.1 Key Concepts\n",
    "\n",
    "Quasi Monte Carlo (QMC) methods use (deterministic) number sequences, known as $\\textit{low-discrepancy}$ sequences, instead of random sampling to achieve faster convergence rates. These sequences are designed to cover the sample space more uniformly than purely random samples.\n",
    "\n",
    "One common low-discrepancy sequence is the Sobol sequence. We consider here the problem from section 1.2, i.e. the estimation of the integral of $f(x) = \\sin(2\\pi x)$ over the interval $[0,1]$.\n",
    "\n",
    "In the following we will use the $\\textit{scipy.stats.qmc}$ module to generate Sobol sequence samples and compare it to the standard MC method."
   ]
  },
  {
   "cell_type": "code",
   "execution_count": 1,
   "id": "f856ecd9",
   "metadata": {},
   "outputs": [],
   "source": [
    "# to do: add definition of sobol points"
   ]
  },
  {
   "cell_type": "code",
   "execution_count": 3,
   "id": "eddd350f",
   "metadata": {},
   "outputs": [
    {
     "name": "stdout",
     "output_type": "stream",
     "text": [
      "Monte Carlo mean: -0.006158592014788713\n",
      "Quasi-Monte Carlo mean: -0.0006206806023906281\n",
      "Expected mean: 0\n"
     ]
    },
    {
     "data": {
      "image/png": "[encoded data removed]",
      "text/plain": [
       "<Figure size 864x432 with 2 Axes>"
      ]
     },
     "metadata": {
      "needs_background": "light"
     },
     "output_type": "display_data"
    }
   ],
   "source": [
    "import numpy as np\n",
    "import matplotlib.pyplot as plt\n",
    "from scipy.stats.qmc import Sobol\n",
    "\n",
    "# Define the function to integrate\n",
    "def f(x):\n",
    "    return np.sin(2 * np.pi * x)\n",
    "\n",
    "# Number of samples\n",
    "N = 1000\n",
    "\n",
    "# Monte Carlo simulation\n",
    "mc_samples = np.random.rand(N) # generate N random samples from a uniform distribution over [0, 1]\n",
    "mc_values = f(mc_samples) # calculate function values of the generated samples\n",
    "mc_mean = np.mean(mc_values) # calculate the mean \n",
    "\n",
    "# Quasi-Monte Carlo simulation using Sobol sequence\n",
    "sobol_engine = Sobol(d=1, scramble=True) # initialize the Sobol sequence generator\n",
    "qmc_samples = sobol_engine.random(N).flatten() # Generate N Sobol sequence samples\n",
    "qmc_values = f(qmc_samples) # calculate function values of the generated samples\n",
    "qmc_mean = np.mean(qmc_values)  # calculate the mean \n",
    "\n",
    "# Expected value (integral of sin(2*pi*x) over [0, 1])\n",
    "expected_value = 0\n",
    "\n",
    "# Plotting\n",
    "plt.figure(figsize=(12, 6))\n",
    "\n",
    "# Monte Carlo\n",
    "plt.subplot(1, 2, 1)\n",
    "plt.hist(mc_values, bins=30, alpha=0.7, color='skyblue', edgecolor='black')\n",
    "plt.axvline(mc_mean, color='red', linestyle='dashed', linewidth=2, label=f'MC Mean: {mc_mean:.4f}')\n",
    "plt.axvline(expected_value, color='green', linestyle='solid', linewidth=2, label='Expected Value: 0')\n",
    "plt.title('Monte Carlo Simulation')\n",
    "plt.xlabel('Value')\n",
    "plt.ylabel('Frequency')\n",
    "plt.legend()\n",
    "\n",
    "# Quasi-Monte Carlo\n",
    "plt.subplot(1, 2, 2)\n",
    "plt.hist(qmc_values, bins=30, alpha=0.7, color='skyblue', edgecolor='black')\n",
    "plt.axvline(qmc_mean, color='red', linestyle='dashed', linewidth=2, label=f'QMC Mean: {qmc_mean:.4f}')\n",
    "plt.axvline(expected_value, color='green', linestyle='solid', linewidth=2, label='Expected Value: 0')\n",
    "plt.title('Quasi-Monte Carlo Simulation')\n",
    "plt.xlabel('Value')\n",
    "plt.ylabel('Frequency')\n",
    "plt.legend()\n",
    "\n",
    "# Print the results\n",
    "print(f\"Monte Carlo mean: {mc_mean}\")\n",
    "print(f\"Quasi-Monte Carlo mean: {qmc_mean}\")\n",
    "print(f\"Expected mean: {expected_value}\")\n",
    "\n",
    "# Show plot\n",
    "plt.tight_layout()\n",
    "plt.show()"
   ]
  },
  {
   "cell_type": "markdown",
   "id": "d68a38d5",
   "metadata": {},
   "source": [
    "We note that the QMC method gives a closer (in terms of absolute error) estimation than the MC method."
   ]
  },
  {
   "cell_type": "markdown",
   "id": "a90cc035",
   "metadata": {},
   "source": [
    "## 2.2 UM-Bridge Integration\n",
    "\n",
    "We give the UM-Bridge integration for a QMC client analogue to before."
   ]
  },
  {
   "cell_type": "code",
   "execution_count": null,
   "id": "03bf8ada",
   "metadata": {},
   "outputs": [],
   "source": [
    "# umbridge client\n",
    "import numpy as np\n",
    "import umbridge\n",
    "from scipy.stats.qmc import Sobol\n",
    "\n",
    "model = umbridge.HTTPModel(\"http://localhost:4242\", \"forward\")\n",
    "\n",
    "N = 100 # Number of samples\n",
    "\n",
    "## Quasi Monte Carlo simulation\n",
    "\n",
    "# Generate N Sobol sequence samples and convert them to a list\n",
    "sobol_engine = Sobol(d=1, scramble=True) # initialize the Sobol sequence generator\n",
    "parameters = sobol_engine.random(N).tolist()\n",
    "print(\"First ten parameters:\", parameters[:10], \"\\n\") # print first 10 parameters\n",
    "\n",
    "qmc_values = [model([parameters])[0][0] for parameters in parameters]  # model evaluation for each parameter\n",
    "print(\"First ten model evaluations:\", qmc_values[:10], \"\\n\")\n",
    "\n",
    "qmc_mean = np.mean(qmc_values)  # calculate mean\n",
    "print(\"QMC estimator:\", qmc_mean, \"\\n\")"
   ]
  }
 ],
 "metadata": {
  "kernelspec": {
   "display_name": "Python 3 (ipykernel)",
   "language": "python",
   "name": "python3"
  },
  "language_info": {
   "codemirror_mode": {
    "name": "ipython",
    "version": 3
   },
   "file_extension": ".py",
   "mimetype": "text/x-python",
   "name": "python",
   "nbconvert_exporter": "python",
   "pygments_lexer": "ipython3",
   "version": "3.9.12"
  }
 },
 "nbformat": 4,
 "nbformat_minor": 5
}
