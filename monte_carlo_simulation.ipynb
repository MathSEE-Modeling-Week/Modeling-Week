{
 "cells": [
  {
   "cell_type": "code",
   "execution_count": 4,
   "id": "9682989f-3764-4faf-a558-d15f6127dd07",
   "metadata": {},
   "outputs": [],
   "source": [
    "import random\n",
    "\n",
    "def estimate_pi(num_points):\n",
    "    points_inside_circle = 0\n",
    "\n",
    "    for _ in range(num_points):\n",
    "        x = random.uniform(0, 1)\n",
    "        y = random.uniform(0, 1)\n",
    "        distance = x ** 2 + y ** 2\n",
    "        if distance <= 1:\n",
    "            points_inside_circle += 1\n",
    "\n",
    "    return 4 * points_inside_circle / num_points\n",
    "\n",
    "#if __name__ == \"__main__\":\n",
    "#    num_points = 1000000  # Adjust the number of points for higher accuracy\n",
    "#    pi_estimate = estimate_pi(num_points)\n",
    "#    print(\"Estimated value of π:\", pi_estimate)"
   ]
  },
  {
   "cell_type": "code",
   "execution_count": null,
   "id": "cf72a237-8dd9-43a7-925d-6165a45c1895",
   "metadata": {},
   "outputs": [],
   "source": []
  }
 ],
 "metadata": {
  "kernelspec": {
   "display_name": "Python 3 (ipykernel)",
   "language": "python",
   "name": "python3"
  },
  "language_info": {
   "codemirror_mode": {
    "name": "ipython",
    "version": 3
   },
   "file_extension": ".py",
   "mimetype": "text/x-python",
   "name": "python",
   "nbconvert_exporter": "python",
   "pygments_lexer": "ipython3",
   "version": "3.10.12"
  }
 },
 "nbformat": 4,
 "nbformat_minor": 5
}
