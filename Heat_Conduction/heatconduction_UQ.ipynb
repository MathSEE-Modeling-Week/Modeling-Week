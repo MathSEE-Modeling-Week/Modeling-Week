{
 "cells": [
  {
   "cell_type": "markdown",
   "id": "b2e4a210-570e-4182-b098-59f7d3f597d2",
   "metadata": {},
   "source": [
    "# Steady State Heat Conduction Problem\n",
    "\n",
    "A variety of inverse problems emerge from differential equations with unknown input parameters. In this exercise, we consider the steady state heat conduction in an isotropic and homogeneous solid and intend to create a Markov Chain Monte Carlo algorithm to infer scalar unknown $k \\in \\mathbb{R}$.\n",
    "\n",
    "In 2 dimensions, if $T(x,y;k): \\bar{\\Omega}\\rightarrow \\mathbb{R}$ represents temperature, then the forward model can be described by Laplace's equation in Cartesian coordinates\n",
    "\n",
    "\\begin{equation}\n",
    "\\nabla^2 T= \\frac{\\partial^2 T}{\\partial x^2} + \\frac{\\partial^2  T}{\\partial y^2} + \\frac{g}{k}=0, \\qquad 0 < x < L, \\quad 0 < y < H\n",
    "\\end{equation}\n",
    "\n",
    "where $L=H=1.2$, $g = 4 \\times 10^6$ is volumetric rate of internal heat generation and $k$ is the thermal conductivity of the material. The boundary conditions are\n",
    "\n",
    "\\begin{align*}\n",
    "T(x,0)&= 0 °C, & T(x, H)&=200 °C  \\\\\n",
    "T(0, y)&= 0 °C, & T(L,y)&=0 °C\n",
    "\\end{align*}\n",
    "\n",
    "We select $k_{true}=200$ as the true value and further assume that the data is provided as the solution to the forward problem \n",
    "with added zero-centered Gaussian noise\n",
    "$$\n",
    "    Y = G(k) + \\eta,\\quad \\eta \\sim \\mathcal{N}(0,\\sigma_{noise}^2)\n",
    "$$\n",
    "\n",
    "where $G(k) = T(x, y;k)$ and $\\sigma_{noise}^2 = 10$.\n",
    "\n",
    "Later on, we assume that we have Gaussian prior, $k \\sim  N(200, 20)$. It follows immediately that the posterior $\\pi^{Y}: \\mathbb{R} \\rightarrow \\mathbb{R_{\\geq}} $ is constructed as\n",
    "\n",
    "\\begin{equation}\n",
    "\\pi^{Y}(k) = \\frac{1}{Z}\\nu(Y-G(k))\\rho(k) \n",
    "\\end{equation}\n",
    "\n",
    "Since $G(k)$ is not solved exactly, by using Finite Difference method we can substitute the exact mapping $G(k)$ with the numerical approximation $G_{h}(k)$. The first step in this process is to discretize the domain into a uniform grid with mesh size $h$, \n",
    "\n",
    "\\begin{equation}\n",
    "G_h = \\{ x_i = ih \\ \\mathrm{and} \\ y_j = jh ;\\ i,j=0,1,\\ldots,12;\\ h = 0.1 \\}.\n",
    "\\end{equation}\n",
    "\n",
    "The temperature value at a given point in the domain, say $(x_i, y_j)$, is represented by $T(x_i, y_j) = T_{i,j}$. By replacing the partial derivatives with finite difference approximations, the equations can be approximated as\n",
    "\n",
    "\\begin{align}\n",
    "\\frac{\\partial^2 T}{\\partial x^2} &\\approx \\frac{T_{i+1,j}-2T_{i,j}+T_{i-1,j}}{h^2}   \\\\\n",
    "\\frac{\\partial^2 T}{\\partial y^2} &\\approx \\frac{T_{i,j+1}-2T_{i,j}+T_{i,j-1}}{h^2}\n",
    "\\end{align}\n",
    "\n",
    "Then we obtain\n",
    "\n",
    "\\begin{equation}\n",
    "T_{i-1,j} + T_{i+1,j} - 4T_{i,j} + T_{i,j-1} + T_{i,j+1} = -\\frac{g}{k}h^2\n",
    "\\end{equation}\n",
    "\n",
    "This equation gives us the temperature at point $(x_i, y_j)$ by using the values at neighboring points. By substituting the values of boundary conditions, this actually gives us a system of linear equations that can be written in matrix form as $Ax=b$."
   ]
  },
  {
   "cell_type": "code",
   "execution_count": 2,
   "id": "4c59ffe3-9893-4280-b2dd-27d6fb0b145a",
   "metadata": {},
   "outputs": [],
   "source": [
    "import numpy as np\n",
    "import math\n",
    "import matplotlib.pyplot as plt\n",
    "import scipy.integrate as integrate\n",
    "import scipy.special as special\n",
    "from mpl_toolkits.mplot3d import axes3d\n",
    "from numpy import exp,arange\n",
    "from pylab import meshgrid,cm,imshow,contour,clabel,colorbar,axis,title,show\n",
    "import numpy\n",
    "from scipy.linalg import block_diag\n",
    "from scipy import linalg\n",
    "\n",
    "# constants \n",
    "L = 1.2\n",
    "H = 1.2\n",
    "k = 200\n",
    "g = 4 * 10**6 \n",
    "T_0 = 200\n",
    "h_val = 0.1\n",
    "N = 12\n",
    "\n",
    "# coefficient matrix where n= L/h i.e n = 1.2 / 0.1 \n",
    "def f(n):\n",
    "    Ddiag  = -4 * np.eye(n-1)\n",
    "    Dupper = np.diag([1] * (n - 2), 1)\n",
    "    Dlower = np.diag([1] * (n - 2), -1)\n",
    "    D = Ddiag + Dupper + Dlower\n",
    "    Ds = [D] * (n- 1)\n",
    "    B1  = block_diag(*Ds)\n",
    "    I = np.ones((n - 1) * (n - 2))\n",
    "    Iupper = np.diag(I, n - 1)\n",
    "    Ilower = np.diag(I, -n + 1)\n",
    "    B2 = Iupper + Ilower\n",
    "    matrix = B1 + B2\n",
    "    return matrix\n",
    "A=f(N)\n",
    "\n",
    "# matrix for the right hand side of the equation\n",
    "def h(n,k):\n",
    "    b = np.zeros((n - 1)**2)\n",
    "    b[:(n-1)] = -(g/k) * (h_val**2) - T_0\n",
    "    b[(n-1):(n - 1)**2]=  -(g/k) * (h_val**2)\n",
    "    return b\n",
    "S=h(N, 200)\n",
    "\n",
    "# solve the system\n",
    "def solve(x,y):\n",
    "    solution = linalg.solve(x, y)\n",
    "    return solution\n",
    "\n",
    "data=solve(A,S)\n",
    "\n",
    "# reshaping the solution\n",
    "d1=np.reshape(solve(A,S), (N-1, N-1))\n",
    "d2 = np.zeros((N + 1, N + 1))\n",
    "d2[0] = T_0\n",
    "d2[1:-1, 1:-1]=d1\n",
    "\n",
    "#print(f\"solving the system of equation gives the solution vector: {d1}\")\n",
    "#print(f\"combining these solutions with the boundary condtions, the final nodal heat: {d2}\")"
   ]
  },
  {
   "cell_type": "code",
   "execution_count": 3,
   "id": "5718510f-40eb-4f79-a72a-08e8887fdc66",
   "metadata": {},
   "outputs": [
    {
     "data": {
      "text/plain": [
       "Text(0, 0.5, 'y')"
      ]
     },
     "execution_count": 3,
     "metadata": {},
     "output_type": "execute_result"
    },
    {
     "data": {
      "image/png": "[encoded data removed]",
      "text/plain": [
       "<Figure size 640x480 with 2 Axes>"
      ]
     },
     "metadata": {},
     "output_type": "display_data"
    }
   ],
   "source": [
    "# plotting \n",
    "x_axis = np.linspace(0, L, N + 1)\n",
    "y_axis = np.linspace(H, 0, N + 1)\n",
    "X, Y = np.meshgrid(x_axis, y_axis)\n",
    "plt.contourf(X, Y, d2, 10)\n",
    "plt.colorbar()\n",
    "plt.xlabel('x')\n",
    "plt.ylabel('y')"
   ]
  },
  {
   "cell_type": "code",
   "execution_count": null,
   "id": "26be1bc0-d288-4288-bc2d-a7dc36ea64f8",
   "metadata": {},
   "outputs": [],
   "source": []
  }
 ],
 "metadata": {
  "kernelspec": {
   "display_name": "Python 3 (ipykernel)",
   "language": "python",
   "name": "python3"
  },
  "language_info": {
   "codemirror_mode": {
    "name": "ipython",
    "version": 3
   },
   "file_extension": ".py",
   "mimetype": "text/x-python",
   "name": "python",
   "nbconvert_exporter": "python",
   "pygments_lexer": "ipython3",
   "version": "3.11.8"
  }
 },
 "nbformat": 4,
 "nbformat_minor": 5
}
