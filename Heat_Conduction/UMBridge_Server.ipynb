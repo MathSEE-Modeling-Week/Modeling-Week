{
 "cells": [
  {
   "cell_type": "markdown",
   "id": "082b36fd-7a49-4148-9b93-7acf4b20f76b",
   "metadata": {},
   "source": [
    "### 1.2 UM-Bridge Model Integration\n",
    "\n",
    "In this section, UM-Bridge model server can be found in the following. It is used to solve the steady state temperature distribution by considering the value of $k$ and number of grid of points as inputs. "
   ]
  },
  {
   "cell_type": "code",
   "execution_count": null,
   "id": "c7adbfd9-5e4d-46d4-a7a6-07980f8fccf1",
   "metadata": {},
   "outputs": [
    {
     "name": "stdout",
     "output_type": "stream",
     "text": [
      "======== Running on http://0.0.0.0:4242 ========\n",
      "(Press CTRL+C to quit)\n"
     ]
    }
   ],
   "source": [
    "# umbridge server\n",
    "import nest_asyncio\n",
    "nest_asyncio.apply()\n",
    "import numpy as np\n",
    "import math\n",
    "import matplotlib.pyplot as plt\n",
    "import scipy.integrate as integrate\n",
    "import scipy.special as special\n",
    "from mpl_toolkits.mplot3d import axes3d\n",
    "from numpy import exp,arange\n",
    "from pylab import meshgrid,cm,imshow,contour,clabel,colorbar,axis,title,show\n",
    "from scipy.linalg import block_diag\n",
    "import numpy\n",
    "import umbridge\n",
    "from scipy import linalg\n",
    "\n",
    "class PDEModel(umbridge.Model):\n",
    "    def __init__(self):\n",
    "        super().__init__(\"forward\")\n",
    "        self.L = 4\n",
    "       # self.k = 40\n",
    "        self.g = 4 * 10**6\n",
    "        self.T_0 = 200\n",
    "        self.Deltax = Deltay = 1 \n",
    "       # self.N = int(self.L/self.Deltax)\n",
    "        \n",
    "    def get_input_sizes(self, config):\n",
    "        return [2]  # for the values k and n(number of mesh grid in a row)\n",
    "        \n",
    "    def get_output_sizes(self, config):\n",
    "        return [9]  # for the output variables T\n",
    "        \n",
    "    def __call__(self, parameters, config):\n",
    "        #g = parameters[0][0]\n",
    "        k = parameters[0][0]\n",
    "        n = parameters[0][1]\n",
    "        A = self.f(n, config)\n",
    "        b = self.h(n, self.g, k, config)\n",
    "        T = self.solve(A, b, config)\n",
    "        return [T.tolist()]\n",
    "        \n",
    "    # coefficient matrix\n",
    "    def f(self, n, config):\n",
    "        Ddiag  = -4 * np.eye(n-1)\n",
    "        Dupper = np.diag([1] * (n - 2), 1)\n",
    "        Dlower = np.diag([1] * (n - 2), -1)\n",
    "        D = Ddiag + Dupper + Dlower\n",
    "        Ds = [D] * (n- 1)\n",
    "        B1  = block_diag(*Ds)\n",
    "        I = np.ones((n - 1) * (n - 2))\n",
    "        Iupper = np.diag(I, n - 1)\n",
    "        Ilower = np.diag(I, -n + 1)\n",
    "        B2 = Iupper + Ilower\n",
    "        matrix = B1 + B2\n",
    "        return matrix\n",
    "\n",
    "    \n",
    "    # matrix for the right hand side of the equation\n",
    "    def h(self, n, g, k, config):\n",
    "        b = np.zeros((n - 1)**2)\n",
    "        b[:(n-1)] = -(g/k) * (self.Deltax **2) - self.T_0\n",
    "        b[(n-1):(n - 1)**2]=  -(g/k) * (self.Deltax **2)\n",
    "        return b\n",
    "\n",
    "    \n",
    "    # solve the linear system \n",
    "    def solve(self, x, y, config):\n",
    "        solution = linalg.solve(x, y)\n",
    "        return solution\n",
    "\n",
    "        \n",
    "    def supports_evaluate(self):\n",
    "        return True\n",
    "\n",
    "pde_model = PDEModel()\n",
    "umbridge.serve_models([pde_model], 4242) # start model server "
   ]
  },
  {
   "cell_type": "markdown",
   "id": "f3d12e27-5423-4c23-806c-9cd3ce85a158",
   "metadata": {},
   "source": [
    "`======== Running on http://0.0.0.0:4242 ========\n",
    "(Press CTRL+C to quit)`"
   ]
  }
 ],
 "metadata": {
  "kernelspec": {
   "display_name": "Python 3 (ipykernel)",
   "language": "python",
   "name": "python3"
  },
  "language_info": {
   "codemirror_mode": {
    "name": "ipython",
    "version": 3
   },
   "file_extension": ".py",
   "mimetype": "text/x-python",
   "name": "python",
   "nbconvert_exporter": "python",
   "pygments_lexer": "ipython3",
   "version": "3.11.8"
  }
 },
 "nbformat": 4,
 "nbformat_minor": 5
}
