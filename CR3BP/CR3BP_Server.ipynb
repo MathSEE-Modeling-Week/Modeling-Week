{
 "cells": [
  {
   "cell_type": "markdown",
   "id": "895df84f-a658-49c5-a6fa-1a9ca545f531",
   "metadata": {},
   "source": [
    "## UM-Bridge  Integration\n",
    "\n",
    "In this section, UM-Bridge model server can be found in the following. It is used to solve the ODEs by considering the value of $\\mu$ as an input."
   ]
  },
  {
   "cell_type": "code",
   "execution_count": null,
   "id": "f022d969-cbc6-4597-8aa7-0ff0ce65d086",
   "metadata": {},
   "outputs": [
    {
     "name": "stdout",
     "output_type": "stream",
     "text": [
      "======== Running on http://0.0.0.0:4243 ========\n",
      "(Press CTRL+C to quit)\n"
     ]
    }
   ],
   "source": [
    "import nest_asyncio\n",
    "nest_asyncio.apply()\n",
    "import numpy as np\n",
    "import math\n",
    "from scipy.integrate import odeint \n",
    "import matplotlib.pyplot as plt\n",
    "import scipy.integrate as integrate\n",
    "import scipy.special as special\n",
    "from mpl_toolkits.mplot3d import axes3d\n",
    "from numpy import exp,arange\n",
    "from pylab import meshgrid,cm,imshow,contour,clabel,colorbar,axis,title,show\n",
    "import numpy\n",
    "import umbridge\n",
    "\n",
    "class PDEModel(umbridge.Model):\n",
    "    def __init__(self):\n",
    "        super().__init__(\"forward\")\n",
    "        self.t = np.linspace(0, 10, 100)\n",
    "        self.x0 = -0.8\n",
    "        self.y0 = 0\n",
    "        self.z0 = 0 \n",
    "        self.v_x0 = 0\n",
    "        self.v_y0 = -0.6276410653920693\n",
    "        self.v_z0 = 0\n",
    "        self.parameter_init= [self.x0, self.y0, self.z0, self.v_x0, self.v_y0, self.v_z0]\n",
    "\n",
    "              \n",
    "    def get_input_sizes(self, config):\n",
    "        return [1]  # for the input µ\n",
    "        \n",
    "    def get_output_sizes(self, config):\n",
    "        return [100, 100, 100] # for the output x, y, z and v_x, v_y, v_z\n",
    "        \n",
    "    def __call__(self, parameters, config):\n",
    "        mu = parameters[0][0]\n",
    "        result = odeint(self.spacecraft, self.parameter_init, self.t, args=(mu,))\n",
    "        a = result[:, 0].tolist()  # x\n",
    "        b = result[:, 1].tolist()  # y\n",
    "        c = result[:, 2].tolist()  # z\n",
    "        return [a, b, c]  \n",
    "\n",
    "    \n",
    "    def spacecraft( self, parameters, t, mu):\n",
    "        x, y, z, v_x, v_y, v_z = parameters\n",
    "        \n",
    "        r1 = np.sqrt((x + mu)**2 + y**2 + z**2)\n",
    "        r2 = np.sqrt((x-1 + mu)**2 + y**2 + z**2)\n",
    "\n",
    "        a_x = 2 * v_y + x - (1 - mu)*(x + mu)/(r1)**3 - (mu)*(x-1 + mu)/(r2)**3\n",
    "        a_y = -2 * v_x + y - (1 - mu)*(y)/(r1)**3 - (mu)*(y)/(r2)**3 \n",
    "        a_z = -(1 - mu)*(z)/(r1)**3 - (mu)*(z)/(r2)**3\n",
    "    \n",
    "        return [v_x, v_y, v_z, a_x, a_y, a_z]\n",
    "        \n",
    "        \n",
    "    def supports_evaluate(self):\n",
    "        return True\n",
    "\n",
    "pde_model = PDEModel()\n",
    "umbridge.serve_models([pde_model], 4243)"
   ]
  },
  {
   "cell_type": "code",
   "execution_count": null,
   "id": "b1996bfb-e8c5-4928-ade5-72d61f740269",
   "metadata": {},
   "outputs": [],
   "source": []
  }
 ],
 "metadata": {
  "kernelspec": {
   "display_name": "Python 3 (ipykernel)",
   "language": "python",
   "name": "python3"
  },
  "language_info": {
   "codemirror_mode": {
    "name": "ipython",
    "version": 3
   },
   "file_extension": ".py",
   "mimetype": "text/x-python",
   "name": "python",
   "nbconvert_exporter": "python",
   "pygments_lexer": "ipython3",
   "version": "3.11.8"
  }
 },
 "nbformat": 4,
 "nbformat_minor": 5
}
