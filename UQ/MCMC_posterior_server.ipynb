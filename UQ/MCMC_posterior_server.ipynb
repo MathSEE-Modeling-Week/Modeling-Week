{
 "cells": [
  {
   "cell_type": "markdown",
   "id": "be3adf01",
   "metadata": {},
   "source": [
    "##  3.2 UM-Bridge Integration for the target function\n",
    "\n",
    "We give an example code how the posterior density for our model can look like as an UM-Bridge model. We use the log normal distribution since it is more common and for the MCMC algorithm the acceptance probability consists of the substraction instead of the quotient of the target distributions, which makes it more stable."
   ]
  },
  {
   "cell_type": "code",
   "execution_count": null,
   "id": "6bf44985",
   "metadata": {},
   "outputs": [
    {
     "name": "stdout",
     "output_type": "stream",
     "text": [
      "======== Running on http://0.0.0.0:4242 ========\n",
      "(Press CTRL+C to quit)\n"
     ]
    }
   ],
   "source": [
    "import numpy as np\n",
    "from scipy.stats import multivariate_normal\n",
    "import umbridge\n",
    "import nest_asyncio\n",
    "nest_asyncio.apply()\n",
    "\n",
    "class LogTargetDistributionModel(umbridge.Model):\n",
    "    def __init__(self):\n",
    "        super().__init__(\"posterior\")\n",
    "\n",
    "    def get_input_sizes(self, config):\n",
    "        return [2] # 2D input\n",
    "\n",
    "    def get_output_sizes(self, config):\n",
    "        return [1] # 1D output log density\n",
    "\n",
    "    def __call__(self, parameters, config):\n",
    "        x = np.array(parameters[0])\n",
    "        mean = np.array([0, 0])\n",
    "        cov = np.array([[1, 0.5], [0.5, 1]])\n",
    "        posterior = multivariate_normal.logpdf(x, mean, cov)\n",
    "        return [[posterior]]\n",
    "\n",
    "    def supports_evaluate(self):\n",
    "        return True\n",
    "    \n",
    "# Create an instance of the model\n",
    "model = LogTargetDistributionModel()\n",
    "\n",
    "# Starting the server\n",
    "umbridge.serve_models([model], 4242)"
   ]
  },
  {
   "cell_type": "code",
   "execution_count": null,
   "id": "3103c4cf",
   "metadata": {},
   "outputs": [],
   "source": []
  }
 ],
 "metadata": {
  "kernelspec": {
   "display_name": "Python3 (ipykernel)",
   "language": "python",
   "name": "python3"
  },
  "language_info": {
   "codemirror_mode": {
    "name": "ipython",
    "version": 3
   },
   "file_extension": ".py",
   "mimetype": "text/x-python",
   "name": "python",
   "nbconvert_exporter": "python",
   "pygments_lexer": "ipython3",
   "version": "3.12.4"
  }
 },
 "nbformat": 4,
 "nbformat_minor": 5
}
