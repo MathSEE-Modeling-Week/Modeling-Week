{
 "cells": [
  {
   "cell_type": "markdown",
   "id": "0602769b",
   "metadata": {},
   "source": [
    "## 2.2 UM-Bridge Integration with QMC\n",
    "\n",
    "In this section, we provide the UM-Bridge integration for a QMC client, similar to the MC client you have seen [before](https://github.com/MathSEE-Modeling-Week/Modeling-Week/blob/main/UQ/MC_client.ipynb). To get started, you need to run the [model server](https://github.com/MathSEE-Modeling-Week/Modeling-Week/blob/main/UQ/MC_server.ipynb), and then you can make a client request by executing the following code."
   ]
  },
  {
   "cell_type": "code",
   "execution_count": 2,
   "id": "fd0dc879",
   "metadata": {},
   "outputs": [
    {
     "name": "stdout",
     "output_type": "stream",
     "text": [
      "First ten parameters: [[0.8036735281348228], [0.07927342038601637], [0.48221856635063887], [0.6348325088620186], [0.6088785268366337], [0.25844918098300695], [0.17603063490241766], [0.9566436298191547], [0.8887826958671212], [0.228295112028718]] \n",
      "\n",
      "First ten model evaluations: [-0.9436712586236253, 0.4777481224432237, 0.11149175954140424, -0.749414704421469, -0.631978847251271, 0.998591175270479, 0.8939277145318097, -0.2690592305532822, -0.6432985947315567, 0.9907152195985097] \n",
      "\n",
      "QMC estimator: -0.007899138013583268 \n",
      "\n"
     ]
    }
   ],
   "source": [
    "import numpy as np\n",
    "import umbridge\n",
    "from scipy.stats.qmc import Sobol\n",
    "\n",
    "model = umbridge.HTTPModel(\"http://localhost:4242\", \"forward\")\n",
    "\n",
    "N = 100 # Number of samples\n",
    "\n",
    "## Quasi Monte Carlo simulation\n",
    "\n",
    "# Generate N Sobol sequence samples and convert them to a list\n",
    "sobol_engine = Sobol(d=1, scramble=True) # initialize the Sobol sequence generator\n",
    "parameters = sobol_engine.random(N).tolist()\n",
    "print(\"First ten parameters:\", parameters[:10], \"\\n\") # print first 10 parameters\n",
    "\n",
    "qmc_values = [model([parameters])[0][0] for parameters in parameters]  # model evaluation for each parameter\n",
    "print(\"First ten model evaluations:\", qmc_values[:10], \"\\n\")\n",
    "\n",
    "qmc_mean = np.mean(qmc_values)  # calculate mean\n",
    "print(\"QMC estimator:\", qmc_mean, \"\\n\")"
   ]
  },
  {
   "cell_type": "markdown",
   "id": "e6d1f360",
   "metadata": {},
   "source": [
    "---\n",
    "\n",
    "### Understanding the Results\n",
    "\n",
    "- **Quasi Monte Carlo Estimator**: Instead of using purely random sampling like in the MC method, the QMC method uses the Sobol sequence, which is a low-discrepancy sequence designed to fill the space more uniformly. The mean of the model evaluations provides the QMC estimator.\n",
    "  \n",
    "- **Sample Size**: Just as with standard MC, increasing $N$ improves the accuracy of the QMC estimator. The QMC method, however, typically converges faster than Monte Carlo with an error rate of $\\mathcal{O}(N^{-1})$, provided the function is smooth.\n",
    "\n",
    "---\n",
    "\n",
    "### Tasks\n",
    "1. **Estimate Another Integral**: If you want to estimate another integral, modify the `Testmodel` class in the model server as shown [here](https://github.com/MathSEE-Modeling-Week/Modeling-Week/blob/main/UQ/MC_server.ipynb). Change the definition of `posterior` to evaluate a different 1D function. How does the QMC method perform for different functions compared to the MC method?\n",
    "\n",
    "2. **Extend to Higher Dimensions**: For higher-dimensional functions, adjust the input and output sizes in the [Testmodel class](https://github.com/MathSEE-Modeling-Week/Modeling-Week/blob/main/UQ/MC_server.ipynb) and modify the client code to generate Sobol sequences for higher dimensions (e.g., `Sobol(d=2)` for a 2D function). How does the QMC estimator behave when applied to higher-dimensional problems?\n"
   ]
  },
  {
   "cell_type": "code",
   "execution_count": null,
   "id": "f9b08326",
   "metadata": {},
   "outputs": [],
   "source": []
  }
 ],
 "metadata": {
  "kernelspec": {
   "display_name": "Python 3 (ipykernel)",
   "language": "python",
   "name": "python3"
  },
  "language_info": {
   "codemirror_mode": {
    "name": "ipython",
    "version": 3
   },
   "file_extension": ".py",
   "mimetype": "text/x-python",
   "name": "python",
   "nbconvert_exporter": "python",
   "pygments_lexer": "ipython3",
   "version": "3.12.4"
  }
 },
 "nbformat": 4,
 "nbformat_minor": 5
}
