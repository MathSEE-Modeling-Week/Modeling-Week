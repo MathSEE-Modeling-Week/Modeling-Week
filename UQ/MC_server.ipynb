{
 "cells": [
  {
   "cell_type": "markdown",
   "id": "24970b81",
   "metadata": {},
   "source": [
    "## 1.2 UM-Bridge Model Integration\n",
    "\n",
    "The model we are considering is the one dimensional function $f: \\mathbb{R} \\rightarrow \\mathbb{R}$, where $f(x) = \\sin(2\\pi x)$. We implement this function using the UM-Bridge framework. For more details on UM-Bridge, you can refer to the [UM-Bridge Documentation](https://um-bridge-benchmarks.readthedocs.io/en/docs/index.html).\n",
    "\n",
    "### Model Implementation\n",
    "\n",
    "Below you can find an implementation of the model. The function $f(x) = \\sin(2\\pi x)$ is defined within a server-side UM-Bridge model."
   ]
  },
  {
   "cell_type": "code",
   "execution_count": null,
   "id": "8b327654",
   "metadata": {},
   "outputs": [
    {
     "name": "stdout",
     "output_type": "stream",
     "text": [
      "======== Running on http://0.0.0.0:4242 ========\n",
      "(Press CTRL+C to quit)\n"
     ]
    }
   ],
   "source": [
    "# umbridge model (server)\n",
    "import nest_asyncio\n",
    "nest_asyncio.apply()\n",
    "import numpy as np\n",
    "import umbridge\n",
    "import time\n",
    "import os\n",
    "\n",
    "class Testmodel(umbridge.Model):# Define the 1D model function f(x)=sin(2*pi*x)\n",
    "\n",
    "    def __init__(self):\n",
    "        super().__init__(\"forward\")\n",
    "\n",
    "    def get_input_sizes(self, config):\n",
    "        return [1]\n",
    "\n",
    "    def get_output_sizes(self, config):\n",
    "        return [1]\n",
    "\n",
    "    def __call__(self, parameters, config):\n",
    "        # Sleep for number of milliseconds defined in env var\n",
    "        time.sleep(int(os.getenv(\"TEST_DELAY\", 0)) / 1000)\n",
    "\n",
    "        posterior = np.sin(2 * np.pi * parameters[0][0])\n",
    "        return [[float(posterior)]]\n",
    "\n",
    "    def supports_evaluate(self):\n",
    "        return True\n",
    "\n",
    "testmodel = Testmodel()\n",
    "\n",
    "umbridge.serve_models([testmodel], 4242) # start model server"
   ]
  },
  {
   "cell_type": "markdown",
   "id": "0f9d741a",
   "metadata": {},
   "source": [
    "### Task 1: Basic Model Exploration\n",
    "- **Change the function**: Change the current function $f(x) = \\sin(2\\pi x)$ to a different one dimensional function.\n",
    "- **Change the input and/or output size**: Change the dimensions of the function to $f: \\mathbb{R}^n \\rightarrow \\mathbb{R}^m$ \n"
   ]
  },
  {
   "cell_type": "code",
   "execution_count": null,
   "id": "d118a258",
   "metadata": {},
   "outputs": [],
   "source": []
  }
 ],
 "metadata": {
  "kernelspec": {
   "display_name": "Python 3 (ipykernel)",
   "language": "python",
   "name": "python3"
  },
  "language_info": {
   "codemirror_mode": {
    "name": "ipython",
    "version": 3
   },
   "file_extension": ".py",
   "mimetype": "text/x-python",
   "name": "python",
   "nbconvert_exporter": "python",
   "pygments_lexer": "ipython3",
   "version": "3.9.12"
  }
 },
 "nbformat": 4,
 "nbformat_minor": 5
}
