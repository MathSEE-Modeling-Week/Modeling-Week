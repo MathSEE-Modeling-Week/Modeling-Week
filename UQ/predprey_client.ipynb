{
 "cells": [
  {
   "cell_type": "markdown",
   "id": "a794df74",
   "metadata": {},
   "source": [
    "## UM-Bridge Integration for Predator-Prey Model\n",
    "\n",
    "### First Client\n",
    "\n",
    "Now the server is running (see `predprey.model.ipynb`) and waits for requests by a client. Before you can make a model evaluation you have to connect to the model."
   ]
  },
  {
   "cell_type": "code",
   "execution_count": 12,
   "id": "4a5f2254",
   "metadata": {},
   "outputs": [],
   "source": [
    "import umbridge\n",
    "model = umbridge.HTTPModel(\"http://0.0.0.0:4242\", \"forward\")"
   ]
  },
  {
   "cell_type": "markdown",
   "id": "1dc3a1bd",
   "metadata": {},
   "source": [
    "Then you have to fix the model parameters $\\theta_1, \\theta_2, \\theta_{12}, \\theta_{21}$, choose a time point $t$ and set the inital values for prey $\\textbf{u}_0[0]$ and predator $\\textbf{u}_0[1]$. You can try different points in time, initial conditions or parameters and see how the system changes."
   ]
  },
  {
   "cell_type": "code",
   "execution_count": 13,
   "id": "8d79722b",
   "metadata": {},
   "outputs": [
    {
     "name": "stdout",
     "output_type": "stream",
     "text": [
      "[[1.4098300518932472, 2.2523325849320948]]\n"
     ]
    }
   ],
   "source": [
    "# parameters = [t, u0[0], u0[1], theta1, theta2, theta12, theta21]\n",
    "parameters = [6, 0.5, 2, 1, 1, 1, 1]\n",
    "print(model([parameters]))"
   ]
  },
  {
   "cell_type": "markdown",
   "id": "ced2f8b9",
   "metadata": {},
   "source": [
    "### Client for MC simulation\n",
    "In the following you can see the client code corresponding to the MC simulation in `predprey_UQ.ipynb`."
   ]
  },
  {
   "cell_type": "code",
   "execution_count": 15,
   "id": "cd80bf85",
   "metadata": {},
   "outputs": [
    {
     "name": "stdout",
     "output_type": "stream",
     "text": [
      "MC estimator for expected value of u1(T) at T=6: 1.5181587659330416\n",
      "Value of u1(T) for the unperturbed trajectory for T=6: 1.4098300518932472\n"
     ]
    }
   ],
   "source": [
    "import numpy as np\n",
    "from scipy.integrate import solve_ivp\n",
    "import matplotlib.pyplot as plt\n",
    "import umbridge\n",
    "\n",
    "# Connect to the umbridge model\n",
    "model = umbridge.HTTPModel(\"http://0.0.0.0:4242\", \"forward\")\n",
    "\n",
    "# Define parameters\n",
    "theta1, theta2, theta12, theta21 = 1.0, 1.0, 1.0, 1.0\n",
    "T = 6\n",
    "u0_bar = np.array([0.5, 2])  # Example unperturbed initial condition\n",
    "\n",
    "# Generate perturbed initial conditions\n",
    "delta = 0.2\n",
    "N = 1000  # Number of MC samples\n",
    "\n",
    "np.random.seed(42)\n",
    "\n",
    "initial_conditions = u0_bar + delta * (2 * np.random.rand(N, 2) - 1)\n",
    "\n",
    "# Solve ODE for each initial condition using the umbridge model\n",
    "u1_T_values = []  # List for storing values of u1(T), i.e., prey, at T=6\n",
    "for u0 in initial_conditions:\n",
    "    # Create the input for the model\n",
    "    parameters = [T, u0[0], u0[1], theta1, theta2, theta12, theta21]\n",
    "    result = model([parameters])\n",
    "    u1_T_values.append(result[0][0])  # Extract u1(T) from the result\n",
    "\n",
    "# Calculate MC estimator\n",
    "u1_T_mean = np.mean(u1_T_values)\n",
    "print(f\"MC estimator for expected value of u1(T) at T={T}: {u1_T_mean}\")\n",
    "\n",
    "# Solve ODE for the unperturbed initial condition using the umbridge model\n",
    "parameters_unperturbed = [T, u0_bar[0], u0_bar[1], theta1, theta2, theta12, theta21]\n",
    "result_unperturbed = model([parameters_unperturbed])\n",
    "u1_T_unperturbed = result_unperturbed[0][0]\n",
    "print(f\"Value of u1(T) for the unperturbed trajectory for T=6: {u1_T_unperturbed}\")"
   ]
  },
  {
   "cell_type": "code",
   "execution_count": null,
   "id": "b5f6d81a",
   "metadata": {},
   "outputs": [],
   "source": []
  }
 ],
 "metadata": {
  "kernelspec": {
   "display_name": "Python 3 (ipykernel)",
   "language": "python",
   "name": "python3"
  },
  "language_info": {
   "codemirror_mode": {
    "name": "ipython",
    "version": 3
   },
   "file_extension": ".py",
   "mimetype": "text/x-python",
   "name": "python",
   "nbconvert_exporter": "python",
   "pygments_lexer": "ipython3",
   "version": "3.12.4"
  }
 },
 "nbformat": 4,
 "nbformat_minor": 5
}
