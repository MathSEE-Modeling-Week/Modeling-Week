{
 "cells": [
  {
   "cell_type": "markdown",
   "id": "68982423",
   "metadata": {},
   "source": [
    "## UM-Bridge Integration for Predator-Prey Model"
   ]
  },
  {
   "cell_type": "markdown",
   "id": "ced2f8b9",
   "metadata": {},
   "source": [
    "### Client for MC simulation\n",
    "In the following you can see the client code corresponding to the MC simulation in `predprey_UQ.ipynb`. Be sure that your model is running (`predprey_server.ipynb`)."
   ]
  },
  {
   "cell_type": "code",
   "execution_count": 15,
   "id": "cd80bf85",
   "metadata": {},
   "outputs": [
    {
     "name": "stdout",
     "output_type": "stream",
     "text": [
      "MC estimator for expected value of u1(T) at T=6: 1.5181587659330416\n",
      "Value of u1(T) for the unperturbed trajectory for T=6: 1.4098300518932472\n"
     ]
    }
   ],
   "source": [
    "import numpy as np\n",
    "from scipy.integrate import solve_ivp\n",
    "import matplotlib.pyplot as plt\n",
    "import umbridge\n",
    "\n",
    "# Connect to the umbridge model\n",
    "model = umbridge.HTTPModel(\"http://0.0.0.0:4242\", \"forward\")\n",
    "\n",
    "# Define parameters\n",
    "theta1, theta2, theta12, theta21 = 1.0, 1.0, 1.0, 1.0\n",
    "T = 6\n",
    "u0_bar = np.array([0.5, 2])  # Example unperturbed initial condition\n",
    "\n",
    "# Generate perturbed initial conditions\n",
    "delta = 0.2\n",
    "N = 1000  # Number of MC samples\n",
    "\n",
    "np.random.seed(42)\n",
    "\n",
    "initial_conditions = u0_bar + delta * (2 * np.random.rand(N, 2) - 1)\n",
    "\n",
    "# Solve ODE for each initial condition using the umbridge model\n",
    "u1_T_values = []  # List for storing values of u1(T), i.e., prey, at T=6\n",
    "for u0 in initial_conditions:\n",
    "    # Create the input for the model\n",
    "    parameters = [T, u0[0], u0[1], theta1, theta2, theta12, theta21]\n",
    "    result = model([parameters])\n",
    "    u1_T_values.append(result[0][0])  # Extract u1(T) from the result\n",
    "\n",
    "# Calculate MC estimator\n",
    "u1_T_mean = np.mean(u1_T_values)\n",
    "print(f\"MC estimator for expected value of u1(T) at T={T}: {u1_T_mean}\")\n",
    "\n",
    "# Solve ODE for the unperturbed initial condition using the umbridge model\n",
    "parameters_unperturbed = [T, u0_bar[0], u0_bar[1], theta1, theta2, theta12, theta21]\n",
    "result_unperturbed = model([parameters_unperturbed])\n",
    "u1_T_unperturbed = result_unperturbed[0][0]\n",
    "print(f\"Value of u1(T) for the unperturbed trajectory for T=6: {u1_T_unperturbed}\")"
   ]
  },
  {
   "cell_type": "code",
   "execution_count": null,
   "id": "b5f6d81a",
   "metadata": {},
   "outputs": [],
   "source": []
  }
 ],
 "metadata": {
  "kernelspec": {
   "display_name": "Python 3 (ipykernel)",
   "language": "python",
   "name": "python3"
  },
  "language_info": {
   "codemirror_mode": {
    "name": "ipython",
    "version": 3
   },
   "file_extension": ".py",
   "mimetype": "text/x-python",
   "name": "python",
   "nbconvert_exporter": "python",
   "pygments_lexer": "ipython3",
   "version": "3.9.12"
  }
 },
 "nbformat": 4,
 "nbformat_minor": 5
}
