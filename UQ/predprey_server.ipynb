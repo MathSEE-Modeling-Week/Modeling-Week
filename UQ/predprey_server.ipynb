{
 "cells": [
  {
   "cell_type": "markdown",
   "id": "af08c767",
   "metadata": {},
   "source": [
    "## UM-Bridge Integration for Predator-Prey Model\n",
    "\n",
    "### The Model\n",
    "\n",
    "We define the predator-prey model in the UM-Bridge framework. By executing the following code lines, a server starts attending for client requests. Input parameters are time point $t$, initial conditions for prey and predator and the parameters $\\theta_{1}, \\theta_{2}, \\theta_{12}, \\theta_{21}$ determing the dynamical system."
   ]
  },
  {
   "cell_type": "code",
   "execution_count": null,
   "id": "0b1a9962",
   "metadata": {},
   "outputs": [
    {
     "name": "stdout",
     "output_type": "stream",
     "text": [
      "======== Running on http://0.0.0.0:4244 ========\n",
      "(Press CTRL+C to quit)\n"
     ]
    }
   ],
   "source": [
    "import numpy as np\n",
    "from scipy.integrate import solve_ivp # for solving the ode\n",
    "import matplotlib.pyplot as plt\n",
    "import nest_asyncio\n",
    "nest_asyncio.apply()\n",
    "import math\n",
    "import scipy.integrate as integrate\n",
    "import scipy.special as special\n",
    "import umbridge\n",
    "\n",
    "class ODEModel(umbridge.Model):\n",
    "    def __init__(self):\n",
    "        super().__init__(\"forward\")\n",
    "        self.A=[]\n",
    "    \n",
    "    def get_input_sizes(self, config): \n",
    "        return [7]  # for the input t, u0_prey, u0_predator, theta1, theta2, theta12, theta21\n",
    "        \n",
    "    def get_output_sizes(self, config):\n",
    "        return [2]  # for the output u1 and u2 (prey and predator)\n",
    "\n",
    "    def __call__(self, parameters, config):\n",
    "        T = parameters[0][0]\n",
    "        u0_prey = parameters[0][1] \n",
    "        u0_predator = parameters[0][2]\n",
    "        theta1 = parameters[0][3]\n",
    "        theta2 = parameters[0][4]\n",
    "        theta12 = parameters[0][5]\n",
    "        theta21 = parameters[0][6]\n",
    "        u0_bar = [u0_prey, u0_predator ]\n",
    "        sol = solve_ivp(self.lotka_volterra, [0, T], u0_bar, args=(theta1, theta2, theta12, theta21, config), method='RK45', t_eval=[T])\n",
    "        result = [float(sol.y[0, -1]), float(sol.y[1, -1])]\n",
    "        return [result]\n",
    "\n",
    "    #solve the Lotka-Volterra model and consider u1 as prey, u2 as predator\n",
    "    def lotka_volterra(self, t, u, theta1, theta2, theta12, theta21, config):\n",
    "        u1, u2 = u\n",
    "        du1dt = theta1 * u1 - theta12 * u1 * u2\n",
    "        du2dt = theta21 * u1 * u2 - theta2 * u2\n",
    "        return [du1dt, du2dt]\n",
    "\n",
    "\n",
    "    def supports_evaluate(self):\n",
    "        return True\n",
    "\n",
    "ode_model = ODEModel()\n",
    "umbridge.serve_models([ode_model], 4242) # starting the server"
   ]
  },
  {
   "cell_type": "code",
   "execution_count": null,
   "id": "0ea045ff",
   "metadata": {},
   "outputs": [],
   "source": []
  }
 ],
 "metadata": {
  "kernelspec": {
   "display_name": "Python 3 (ipykernel)",
   "language": "python",
   "name": "python3"
  },
  "language_info": {
   "codemirror_mode": {
    "name": "ipython",
    "version": 3
   },
   "file_extension": ".py",
   "mimetype": "text/x-python",
   "name": "python",
   "nbconvert_exporter": "python",
   "pygments_lexer": "ipython3",
   "version": "3.12.4"
  }
 },
 "nbformat": 4,
 "nbformat_minor": 5
}
