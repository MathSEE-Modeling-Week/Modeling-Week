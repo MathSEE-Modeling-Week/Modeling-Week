{
 "cells": [
  {
   "cell_type": "markdown",
   "id": "7bbf1e4b",
   "metadata": {},
   "source": [
    "## 1.3 UM-Bridge Client"
   ]
  },
  {
   "cell_type": "code",
   "execution_count": 2,
   "id": "0b7614c8",
   "metadata": {},
   "outputs": [
    {
     "name": "stdout",
     "output_type": "stream",
     "text": [
      "First ten parameters: [[0.8706080117991248], [0.13244494965600662], [0.5076992710333947], [0.2428955294556927], [0.1120323797472873], [0.38042373882307357], [0.3434180589147875], [0.956555804923446], [0.4806179552064962], [0.8981198774492936]] \n",
      "\n",
      "First ten model evaluations: [-0.7263481727585729, 0.7393982614219202, -0.04835708034929064, 0.99900385843762, 0.6472110655448976, 0.6826038543936931, 0.8326265266319042, -0.26959066053474917, 0.12148018789807949, -0.5973010634556816] \n",
      "\n",
      "MC estimator: -0.0531669564566899 \n",
      "\n"
     ]
    }
   ],
   "source": [
    "# umbridge client\n",
    "import numpy as np\n",
    "import umbridge\n",
    "\n",
    "model = umbridge.HTTPModel(\"http://localhost:4242\", \"forward\")\n",
    "\n",
    "N = 100 # Number of samples\n",
    "\n",
    "# Monte Carlo simulation\n",
    "\n",
    "# Generate N random samples from a uniform distribution over [0, 1] and convert each to a list\n",
    "parameters = [np.random.rand(1).tolist() for _ in range(N)]\n",
    "print(\"First ten parameters:\", parameters[:10], \"\\n\") # print first 10 parameters\n",
    "\n",
    "#mc_values = [model([parameters])[0][0] for parameters in parameters]  # model evaluation for each parameter\n",
    "#print(\"First ten model evaluations:\", mc_values[:10], \"\\n\")\n",
    "\n",
    "#mc_mean = np.mean(mc_values)  # calculate mean\n",
    "#print(\"MC estimator:\", mc_mean, \"\\n\")"
   ]
  },
  {
   "cell_type": "markdown",
   "id": "32151b6f",
   "metadata": {},
   "source": [
    "You can see how the estimator is working for different sample sizes `N` or different functions. Just run the code in another file. If you want to estimate another integral, you have to make a change in the definied Testmodel class from above. Change the definition of `posterior` to another 1D function that you are interested in."
   ]
  },
  {
   "cell_type": "markdown",
   "id": "ab741079",
   "metadata": {},
   "source": [
    "**Remark:** The convergence of the basic Monte Carlo method is always dimension independent. (In our example we considered a one dimensional function.) (No smoothness is needed!) However, the order is too slow: $\\mathscr{O}(N^{-1/2})$. Quasi-Monte Carlo can also be dimension independent and the convergence order is (almost) $\\mathscr{O}(N^{-1})$, but requires also (some) smoothness."
   ]
  },
  {
   "cell_type": "code",
   "execution_count": null,
   "id": "cedecc9c",
   "metadata": {},
   "outputs": [],
   "source": []
  }
 ],
 "metadata": {
  "kernelspec": {
   "display_name": "mwkernel",
   "language": "python",
   "name": "python3"
  },
  "language_info": {
   "codemirror_mode": {
    "name": "ipython",
    "version": 3
   },
   "file_extension": ".py",
   "mimetype": "text/x-python",
   "name": "python",
   "nbconvert_exporter": "python",
   "pygments_lexer": "ipython3",
   "version": "3.12.4"
  }
 },
 "nbformat": 4,
 "nbformat_minor": 5
}
