{
 "cells": [
  {
   "cell_type": "markdown",
   "id": "0602769b",
   "metadata": {},
   "source": [
    "## 2.2 UM-Bridge Integration with QMC\n",
    "\n",
    "In this section, we provide the UM-Bridge integration for a QMC client, similar to the MC client you have seen [before](https://github.com/MathSEE-Modeling-Week/Modeling-Week/blob/main/UQ/Monte_Carlo/MC_client.ipynb). To get started, you need to run the [model server](https://github.com/MathSEE-Modeling-Week/Modeling-Week/blob/main/UQ/Monte_Carlo/MC_server.ipynb), and then you can make a client request by executing the following code."
   ]
  },
  {
   "cell_type": "code",
   "execution_count": 10,
   "id": "fd0dc879",
   "metadata": {},
   "outputs": [
    {
     "name": "stdout",
     "output_type": "stream",
     "text": [
      "First ten parameters: [[0.08197019342333078], [0.967562111094594], [0.6506428066641092], [0.2728481153026223], [0.4979884885251522], [0.6101983403787017], [0.801137282513082], [0.18113017454743385], [0.20835448056459427], [0.8364163069054484]] \n",
      "\n",
      "First ten model evaluations: [0.49256436468190323, -0.2024051328198409, -0.811384379598414, 0.9897131002920818, 0.012638362869275438, -0.6383837153384229, -0.9488240935612094, 0.9078277136150216, 0.9659602075593827, -0.8561780874177579] \n",
      "\n",
      "QMC estimator: 0.005911264884264689 \n",
      "\n"
     ]
    }
   ],
   "source": [
    "import numpy as np\n",
    "import umbridge\n",
    "from scipy.stats.qmc import Sobol\n",
    "\n",
    "model = umbridge.HTTPModel(\"http://localhost:4242\", \"forward\")\n",
    "\n",
    "N = 100 # Number of samples\n",
    "\n",
    "## Quasi Monte Carlo simulation\n",
    "\n",
    "# Generate N Sobol sequence samples and convert them to a list\n",
    "sobol_engine = Sobol(d=1, scramble=True) # initialize the Sobol sequence generator\n",
    "parameters = sobol_engine.random(N).tolist()\n",
    "print(\"First ten parameters:\", parameters[:10], \"\\n\") # print first 10 parameters\n",
    "\n",
    "qmc_values = [model([parameters])[0][0] for parameters in parameters]  # model evaluation for each parameter\n",
    "print(\"First ten model evaluations:\", qmc_values[:10], \"\\n\")\n",
    "\n",
    "qmc_mean = np.mean(qmc_values)  # calculate mean\n",
    "print(\"QMC estimator:\", qmc_mean, \"\\n\")"
   ]
  },
  {
   "cell_type": "markdown",
   "id": "e6d1f360",
   "metadata": {},
   "source": [
    "---\n",
    "\n",
    "### Understanding the Results\n",
    "\n",
    "- **Quasi Monte Carlo Estimator**: Instead of using purely random sampling like in the MC method, the QMC method uses the Sobol sequence, which is a low-discrepancy sequence designed to fill the space more uniformly. The mean of the model evaluations provides the QMC estimator.\n",
    "  \n",
    "- **Sample Size**: Just as with standard MC, increasing $N$ improves the accuracy of the QMC estimator. The QMC method, however, typically converges faster than Monte Carlo with an error rate of $\\mathcal{O}(N^{-1})$, provided the function is smooth.\n",
    "\n",
    "---\n",
    "\n",
    "## Tasks\n",
    "\n",
    "1. **Estimate Another Integral**: If you want to estimate another integral, modify the `Testmodel` class in the model server as shown [here](https://github.com/MathSEE-Modeling-Week/Modeling-Week/blob/main/UQ/MC_server.ipynb). Change the definition of `posterior` to evaluate a different 1D function. How does the QMC method perform for different functions compared to the MC method?\n",
    "\n",
    "2. **Extend to Higher Dimensions**: For higher-dimensional functions, adjust the input and output sizes in the [Testmodel class](https://github.com/MathSEE-Modeling-Week/Modeling-Week/blob/main/UQ/MC_server.ipynb) and modify the client code to generate Sobol sequences for higher dimensions (e.g., `Sobol(d=2)` for a 2D function). How does the QMC estimator behave when applied to higher-dimensional problems?\n",
    "\n",
    "3. **Application to Other Models via UM-Bridge**: Use the QMC method to sample for example initial conditions and apply these to another model (e.g., an ODE system) via the UM-Bridge framework. Calculate the mean results of the model outputs for QMC samples and compare them to the expected behavior of the system.\n",
    "\n",
    "Below, you can find an example solution for task 3 and the predator prey model.\n",
    "\n",
    "---\n"
   ]
  },
  {
   "cell_type": "markdown",
   "id": "984e1ee1",
   "metadata": {},
   "source": [
    "<br><br><br><br><br><br><br><br>\n",
    "\n",
    "<br><br><br><br><br><br><br><br>\n",
    "\n",
    "\n",
    "## Example Solution\n",
    "\n",
    "### 3. Application to Other Models (UM-Bridge Integration)\n",
    "\n",
    "Next, we apply the QMC method to another team's model using the **UM-Bridge** framework. This model could represent any system, such as a predator-prey dynamical system or an ODE. \n",
    "\n",
    "We follow these steps:\n",
    "- Use a Sobol sequence to generate perturbed initial conditions.\n",
    "- Solve the other team's model for each initial condition using UM-Bridge.\n",
    "- Calculate the mean result of the model outputs and compare them to expected behavior.\n",
    "\n",
    "In this case, we apply QMC to the predator-prey system, where the initial condition is perturbed according to a Sobol sequence.\n",
    "\n",
    "Don't forget to [run your model](https://github.com/MathSEE-Modeling-Week/Modeling-Week/blob/main/UQ/predprey_server.ipynb).\n",
    "\n",
    "#### Results\n",
    "\n",
    "The histogram below shows the distribution of the results from the QMC simulation for the other model. The QMC mean is indicated, demonstrating the effectiveness of the method in this context.\n"
   ]
  },
  {
   "cell_type": "code",
   "execution_count": 6,
   "id": "831d95dd",
   "metadata": {},
   "outputs": [
    {
     "name": "stdout",
     "output_type": "stream",
     "text": [
      "QMC mean for other model at T=6: 1.5020057562882139\n",
      "True value for unperturbed initial condition at T=6: 1.4098300518932472\n"
     ]
    },
    {
     "data": {
      "image/png": "[encoded data removed]",
      "text/plain": [
       "<Figure size 576x432 with 1 Axes>"
      ]
     },
     "metadata": {
      "needs_background": "light"
     },
     "output_type": "display_data"
    }
   ],
   "source": [
    "import numpy as np\n",
    "import matplotlib.pyplot as plt\n",
    "from scipy.stats.qmc import Sobol\n",
    "import umbridge\n",
    "\n",
    "# Define a UM-Bridge model for some other team's system (e.g., ODE model)\n",
    "model = umbridge.HTTPModel(\"http://0.0.0.0:4242\", \"forward\")\n",
    "\n",
    "# Define parameters for the other model (based on the system's requirement)\n",
    "T = 6\n",
    "theta_values = [1.0, 1.0, 1.0, 1.0]\n",
    "u0_bar = np.array([0.5, 2])\n",
    "delta = 0.2\n",
    "\n",
    "# Number of QMC samples\n",
    "N = 512\n",
    "\n",
    "# Generate QMC samples for perturbed initial conditions\n",
    "sobol_engine = Sobol(d=2, scramble=True)\n",
    "qmc_samples = sobol_engine.random(N)\n",
    "\n",
    "# Use the samples to perturb the initial condition\n",
    "initial_conditions = u0_bar + delta * (2 * qmc_samples - 1)\n",
    "\n",
    "# Solve ODE for each initial condition using the UM-Bridge model\n",
    "results = []\n",
    "for u0 in initial_conditions:\n",
    "    parameters = [T, u0[0], u0[1]] + theta_values\n",
    "    result = model([parameters])\n",
    "    results.append(result[0][0])  # Assuming we're interested in the prey population (u1) at T=6\n",
    "\n",
    "# Calculate mean and plot results\n",
    "qmc_mean_umbridge = np.mean(results)\n",
    "print(f\"QMC mean for other model at T={T}: {qmc_mean_umbridge}\")\n",
    "\n",
    "# Solve ODE for unperturbed initial condition\n",
    "parameters_unperturbed = [T, u0_bar[0], u0_bar[1]] + theta_values\n",
    "result_unperturbed = model([parameters_unperturbed])\n",
    "true_value = result_unperturbed[0][0]\n",
    "print(f\"True value for unperturbed initial condition at T={T}: {true_value}\")\n",
    "\n",
    "# Plot the histogram of the results\n",
    "plt.figure(figsize=(8, 6))\n",
    "plt.hist(results, bins=30, alpha=0.7, color='skyblue', edgecolor='black')\n",
    "plt.axvline(qmc_mean_umbridge, color='red', linestyle='dashed', linewidth=2, label=f'QMC Mean: {qmc_mean_umbridge:.4f}')\n",
    "plt.title('QMC Simulation for Other Model (UM-Bridge)')\n",
    "plt.xlabel('Prey Population at T=6')\n",
    "plt.ylabel('Frequency')\n",
    "plt.legend()\n",
    "plt.grid(True)\n",
    "plt.show()"
   ]
  },
  {
   "cell_type": "code",
   "execution_count": null,
   "id": "2613ae3b",
   "metadata": {},
   "outputs": [],
   "source": []
  }
 ],
 "metadata": {
  "kernelspec": {
   "display_name": "Python 3 (ipykernel)",
   "language": "python",
   "name": "python3"
  },
  "language_info": {
   "codemirror_mode": {
    "name": "ipython",
    "version": 3
   },
   "file_extension": ".py",
   "mimetype": "text/x-python",
   "name": "python",
   "nbconvert_exporter": "python",
   "pygments_lexer": "ipython3",
   "version": "3.9.12"
  }
 },
 "nbformat": 4,
 "nbformat_minor": 5
}
