{
 "cells": [
  {
   "cell_type": "markdown",
   "id": "24970b81",
   "metadata": {},
   "source": [
    "## 1.2 UM-Bridge Model Integration\n",
    "\n",
    "In this subsection we use the MC simulation for estimating an integral. First we give the implementation of the considered model, which is the one dimensional function $f: \\mathbb{R} \\rightarrow \\mathbb{R}$, where $f(x) = \\sin(2\\pi x)$."
   ]
  },
  {
   "cell_type": "code",
   "execution_count": null,
   "id": "8b327654",
   "metadata": {},
   "outputs": [
    {
     "name": "stdout",
     "output_type": "stream",
     "text": [
      "======== Running on http://0.0.0.0:4242 ========\n",
      "(Press CTRL+C to quit)\n"
     ]
    }
   ],
   "source": [
    "# umbridge model (server)\n",
    "import nest_asyncio\n",
    "nest_asyncio.apply()\n",
    "import numpy as np\n",
    "import umbridge\n",
    "import time\n",
    "import os\n",
    "\n",
    "class Testmodel(umbridge.Model):# Define the 1D model function f(x)=sin(2*pi*x)\n",
    "\n",
    "    def __init__(self):\n",
    "        super().__init__(\"forward\")\n",
    "\n",
    "    def get_input_sizes(self, config):\n",
    "        return [1]\n",
    "\n",
    "    def get_output_sizes(self, config):\n",
    "        return [1]\n",
    "\n",
    "    def __call__(self, parameters, config):\n",
    "        # Sleep for number of milliseconds defined in env var\n",
    "        time.sleep(int(os.getenv(\"TEST_DELAY\", 0)) / 1000)\n",
    "\n",
    "        posterior = np.sin(2 * np.pi * parameters[0][0])\n",
    "        return [[posterior]]\n",
    "\n",
    "    def supports_evaluate(self):\n",
    "        return True\n",
    "\n",
    "testmodel = Testmodel()\n",
    "\n",
    "umbridge.serve_models([testmodel], 4242) # start model server"
   ]
  },
  {
   "cell_type": "markdown",
   "id": "77261540",
   "metadata": {},
   "source": [
    "We are interested in the value of the integral $\\int_{0}^{1} f(x) \\textit{d}x$. We know by simple analysis calculations that this equals $0$. For the MC simulation we consider $N$ uniform distributed random variables $X_i \\sim \\mathscr{U}([0,1])$, $i=1,...,N$. Then we calculate the MC estimator\n",
    "\\begin{equation}\n",
    "\\hat{F}^{MC} = \\frac{1}{N} \\sum_{i=1}^{N} f(x_i)\n",
    "\\end{equation}\n",
    "where $x_i$ are realizations of the random variables $X_i$. We note that $\\mathbb{E}[f(X_i)] = \\int_{0}^{1} f(x) \\textit{d}x$. Thus, we obtain an unbiased estimator for the integral"
   ]
  },
  {
   "cell_type": "markdown",
   "id": "5d966b53",
   "metadata": {},
   "source": [
    "Now we can make client requests using `MC_1.3`."
   ]
  },
  {
   "cell_type": "code",
   "execution_count": null,
   "id": "d118a258",
   "metadata": {},
   "outputs": [],
   "source": []
  }
 ],
 "metadata": {
  "kernelspec": {
   "display_name": "mwkernel",
   "language": "python",
   "name": "python3"
  },
  "language_info": {
   "codemirror_mode": {
    "name": "ipython",
    "version": 3
   },
   "file_extension": ".py",
   "mimetype": "text/x-python",
   "name": "python",
   "nbconvert_exporter": "python",
   "pygments_lexer": "ipython3",
   "version": "3.12.4"
  }
 },
 "nbformat": 4,
 "nbformat_minor": 5
}
