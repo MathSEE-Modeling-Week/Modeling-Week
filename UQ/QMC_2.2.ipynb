{
 "cells": [
  {
   "cell_type": "markdown",
   "id": "0602769b",
   "metadata": {},
   "source": [
    "## 2.2 UM-Bridge Integration\n",
    "\n",
    "We give the UM-Bridge integration for a QMC client analogue to before. You have to run the model (see `MC_1.2.ipynb` class Testmodel), then you can make a client request by executing this code."
   ]
  },
  {
   "cell_type": "code",
   "execution_count": 2,
   "id": "fd0dc879",
   "metadata": {},
   "outputs": [
    {
     "name": "stdout",
     "output_type": "stream",
     "text": [
      "First ten parameters: [[0.8036735281348228], [0.07927342038601637], [0.48221856635063887], [0.6348325088620186], [0.6088785268366337], [0.25844918098300695], [0.17603063490241766], [0.9566436298191547], [0.8887826958671212], [0.228295112028718]] \n",
      "\n",
      "First ten model evaluations: [-0.9436712586236253, 0.4777481224432237, 0.11149175954140424, -0.749414704421469, -0.631978847251271, 0.998591175270479, 0.8939277145318097, -0.2690592305532822, -0.6432985947315567, 0.9907152195985097] \n",
      "\n",
      "QMC estimator: -0.007899138013583268 \n",
      "\n"
     ]
    }
   ],
   "source": [
    "import numpy as np\n",
    "import umbridge\n",
    "from scipy.stats.qmc import Sobol\n",
    "\n",
    "model = umbridge.HTTPModel(\"http://localhost:4242\", \"forward\")\n",
    "\n",
    "N = 100 # Number of samples\n",
    "\n",
    "## Quasi Monte Carlo simulation\n",
    "\n",
    "# Generate N Sobol sequence samples and convert them to a list\n",
    "sobol_engine = Sobol(d=1, scramble=True) # initialize the Sobol sequence generator\n",
    "parameters = sobol_engine.random(N).tolist()\n",
    "print(\"First ten parameters:\", parameters[:10], \"\\n\") # print first 10 parameters\n",
    "\n",
    "qmc_values = [model([parameters])[0][0] for parameters in parameters]  # model evaluation for each parameter\n",
    "print(\"First ten model evaluations:\", qmc_values[:10], \"\\n\")\n",
    "\n",
    "qmc_mean = np.mean(qmc_values)  # calculate mean\n",
    "print(\"QMC estimator:\", qmc_mean, \"\\n\")"
   ]
  },
  {
   "cell_type": "markdown",
   "id": "0fb72157",
   "metadata": {},
   "source": [
    "Again you can see how the estimator is working for different sample sizes `N` or different functions. If you want to estimate another integral, you have to make a change in the definied Testmodel class in `MC_1.2.ipynb`. Change the definition of `posterior` to another 1D function that you are interested in. For higher dimensional functions you have to make changes in the input and output sizes aswell. Furthermore you have to modify the client code aswell."
   ]
  },
  {
   "cell_type": "code",
   "execution_count": null,
   "id": "ec6de757",
   "metadata": {},
   "outputs": [],
   "source": []
  }
 ],
 "metadata": {
  "kernelspec": {
   "display_name": "mwkernel",
   "language": "python",
   "name": "python3"
  },
  "language_info": {
   "codemirror_mode": {
    "name": "ipython",
    "version": 3
   },
   "file_extension": ".py",
   "mimetype": "text/x-python",
   "name": "python",
   "nbconvert_exporter": "python",
   "pygments_lexer": "ipython3",
   "version": "3.12.4"
  }
 },
 "nbformat": 4,
 "nbformat_minor": 5
}
