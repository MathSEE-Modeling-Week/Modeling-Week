{
 "cells": [
  {
   "cell_type": "markdown",
   "id": "1f4dba23",
   "metadata": {},
   "source": [
    "# L2-Sea Propagation Benchmark Client\n",
    "\n",
    "In this section we make model requests to the L2-Sea propagation benchmark. Make sure that the container is running in [here](https://github.com/MathSEE-Modeling-Week/Modeling-Week/blob/main/Models/L2-Sea/L2-benchmark_model.ipynb). We connect to the model and make a first model request. Remember that the Froude number (Fr) should be in the interval $[0.25, 0.41]$ and the draft (D) in the interval $[-6.776, -5.544]$. As a first client we choose the Froude number to be $Fr=0.32$ and draft $D=-6.2$."
   ]
  },
  {
   "cell_type": "code",
   "execution_count": 9,
   "id": "1abb049b",
   "metadata": {},
   "outputs": [
    {
     "name": "stdout",
     "output_type": "stream",
     "text": [
      "[[64.7470016]]\n"
     ]
    }
   ],
   "source": [
    "import numpy as np\n",
    "import umbridge\n",
    "\n",
    "model = umbridge.HTTPModel(\"http://localhost:4242\", \"benchmark_UQ\")# make sure that you connect to the \"benchmark_UQ\"\n",
    "\n",
    "Fr = 0.32\n",
    "D = -6.2\n",
    "\n",
    "# Combine parameters into a single list\n",
    "parameters = [Fr, D]\n",
    "\n",
    "print(model([parameters]))"
   ]
  },
  {
   "cell_type": "markdown",
   "id": "3bab683d",
   "metadata": {},
   "source": [
    "Thus, the result $R_T = 64.7470016$ represents the total resistance for given $Fr=0.32$ and $D=-6.2$. Next we make a MC simulation considering $N=100$ samples, which can take some time."
   ]
  },
  {
   "cell_type": "code",
   "execution_count": 2,
   "id": "9129f6ce",
   "metadata": {},
   "outputs": [
    {
     "name": "stdout",
     "output_type": "stream",
     "text": [
      "Monte Carlo Estimator (Mean) of the Total Resistance R_T: 73.157189086\n"
     ]
    }
   ],
   "source": [
    "# Define the ranges for Froude number and draft\n",
    "Fr_min, Fr_max = 0.25, 0.41\n",
    "D_min, D_max = -6.776, -5.544\n",
    "\n",
    "# Number of Monte Carlo samples\n",
    "N = 100\n",
    "\n",
    "# Generate random samples for Fr and D\n",
    "Fr_samples = np.random.uniform(Fr_min, Fr_max, N)\n",
    "D_samples = np.random.uniform(D_min, D_max, N)\n",
    "\n",
    "# Store the results\n",
    "results = []\n",
    "\n",
    "for Fr, D in zip(Fr_samples, D_samples):\n",
    "    parameters = [Fr, D]\n",
    "    # Evaluate the model for each (Fr, D) pair\n",
    "    output = model([parameters])\n",
    "    # Safe output ,i.e. total resistance R_T\n",
    "    results.append(output[0][0])\n",
    "print\n",
    "\n",
    "# Filter out the outlier\n",
    "filtered_results = [x for x in results if x < 1e+3]\n",
    "\n",
    "# Calculate the mean (Monte Carlo estimator)\n",
    "mean_estimate = np.mean(filtered_results)\n",
    "\n",
    "print(f\"Monte Carlo Estimator (Mean) of the Total Resistance R_T: {mean_estimate}\")"
   ]
  },
  {
   "cell_type": "markdown",
   "id": "f5014dda",
   "metadata": {},
   "source": [
    "Remember that the MC estimator is in this case given by\n",
    "\n",
    "\\begin{equation}\n",
    "\\hat{R_T} = \\frac{1}{N} \\sum_{i=1}^{N} R_T(Fr_i, D_i).\n",
    "\\end{equation}"
   ]
  },
  {
   "cell_type": "code",
   "execution_count": null,
   "id": "f511a4af",
   "metadata": {},
   "outputs": [],
   "source": []
  }
 ],
 "metadata": {
  "kernelspec": {
   "display_name": "Python 3 (ipykernel)",
   "language": "python",
   "name": "python3"
  },
  "language_info": {
   "codemirror_mode": {
    "name": "ipython",
    "version": 3
   },
   "file_extension": ".py",
   "mimetype": "text/x-python",
   "name": "python",
   "nbconvert_exporter": "python",
   "pygments_lexer": "ipython3",
   "version": "3.12.4"
  }
 },
 "nbformat": 4,
 "nbformat_minor": 5
}
