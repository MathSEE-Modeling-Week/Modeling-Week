{
 "cells": [
  {
   "cell_type": "markdown",
   "id": "bcd4f2d6",
   "metadata": {},
   "source": [
    "# L2-Sea Propagation Benchmark Model\n",
    "\n",
    "In this section, we explore a forward UQ application in the context of naval engineering. We will take a look at a forward propagation benchmark called **L2-Sea propagation**. We use the predefinied distribution in this model for applying the MC simulation introduced earlier.\n",
    "\n",
    "The objective is to compute the probability density function (PDF) of the resistance to advancement, $R_T$, of a naval vessel. This resistance is analogous to the drag force experienced by airplanes. The vessel is assumed to be moving in calm water under uncertain conditions related to the Froude number $Fr$ (a dimensionless number proportional to the navigation speed) and the draft $D$ (the submerged portion of the hull, directly proportional to the payload). Together, these uncertain parameters are represented as $\\theta = [Fr, D]$.\n",
    "\n",
    "The computation of $R_T$ for specific values of $Fr$ and $D$, i.e., the evaluation of the response function $R_T = R_T(Fr, D)$, is performed using the L2-Sea model. This model, originally written in Fortran, has been wrapped with an UM-Bridge interface and is available as a container in the UM-Bridge benchmark library. Before running it, you need to install [Docker](https://www.docker.com).\n",
    "\n",
    "The L2-Sea model can be run locally with the following Docker command:\n"
   ]
  },
  {
   "cell_type": "code",
   "execution_count": null,
   "id": "fad3ff48",
   "metadata": {},
   "outputs": [
    {
     "name": "stdout",
     "output_type": "stream",
     "text": [
      "======== Running on http://0.0.0.0:4242 ========\n",
      "(Press CTRL+C to quit)\n",
      "0\n",
      "0\n",
      "0\n",
      "0\n",
      "0\n",
      "0\n",
      "0\n",
      "0\n",
      "0\n",
      "0\n",
      "0\n",
      "0\n",
      "0\n",
      "0\n",
      "\n",
      "{}\n",
      "\n",
      " ------------------------------------------------------------------------- \n",
      " |         _____   _      _   _______       _____   _____    ___          |\n",
      " |        /  _  \\ | \\    / | |__   __|     |___  \\ |___  \\  /   \\         |\n",
      " |        | /_\\ | \\ \\    / /    | |    ___   __| |   __| | /_/| |         |\n",
      " |        |  _  |  \\ \\  / /     | |   |___| |__  |  |__  |    | |         |\n",
      " |        | | | |   \\ \\/ /      | |         ___| |  ___| |   _| |_        |\n",
      " |        |_| |_|    \\__/       |_|        |_____/ |_____/  |_____|       |\n",
      " |                                                                        |\n",
      " |                 NATO-AVT-331, L2 Sea benchmark problem                 |\n",
      " |                                  v1.0                                  |\n",
      " |                       22 Sep. 2020 ... release 1.0                     |\n",
      " |                           CNR-INM, Rome, Italy                         |\n",
      " |                          Serani A. and  Diez M.                        |\n",
      " |                                                                        |\n",
      " --------------------------------------------------------------------------\n",
      "\n",
      "mkdir: cannot create directory ‘CPU000’: File exists\n",
      " Morphing from KLE eigenvector\n",
      " KLE EIG   Displ       LBP        BOA         T        X CoG      X CoF\n",
      "Initial  5.577E-01  5.722E+00  8.273E-01  3.718E-01  3.356E-02  2.021E-02\n",
      "  Final  5.577E-01  5.722E+00  8.273E-01  3.718E-01  3.356E-02  2.021E-02\n",
      " --------------------------------------------------------------------------\n",
      "\n",
      " Grid level =           7\n",
      " -----------------------------------------------------\n",
      " (Non-dimensional values)\n",
      "  \n",
      " Static condition (Fr=0, SinkG=0, Trim=0)\n",
      "     L0                       :   5.72000E+00\n",
      "     Displ/L0^3               :   2.97503E-03\n",
      "     WSurf/L0^2               :   1.48176E-01\n",
      "     X CoG/L0  (X CoB/L0)     :   5.95408E-03\n",
      "     X CoF/L0                 :   3.49891E-03\n",
      "     B/L0                     :   6.87758E-02\n",
      "     T/L0                     :   6.55406E-02\n",
      "  \n",
      "  Fr 0.320\n",
      "  It     Cw         Ct      WSurf    SinkG      Trim     DSink%  DTrim%\n",
      "   1  1.672E-03  4.659E-03  0.148  0.000E+00  0.000E+00    0.00    0.00\n",
      "\n",
      " ============================================\n",
      " Objective function:                         \n",
      " ============================================\n",
      " Total resistance [N]            =   64.7470016    \n",
      "\n",
      " ============================================\n",
      " Constraints (non-dimensional, <0 satisifed) \n",
      " ============================================\n",
      " Beam                            =  -1.00000000    \n",
      " Draft                           =  -1.00000000    \n",
      " Sonar dome diameter             = -0.107635260    \n",
      " Sonar dome height               =  -1.72240210    \n",
      "\n"
     ]
    }
   ],
   "source": [
    "!docker run -it -p 4242:4242 linusseelinger/model-l2-sea"
   ]
  },
  {
   "cell_type": "markdown",
   "id": "0d7e7f80",
   "metadata": {},
   "source": [
    "The model server is now up and running inside a container, waiting to be called by any UM-Bridge client. Note that you cannot stop the server in this notebook by pressing CTRL+C, you have to interrupt the kernel (kernel/interrupt) or for restarting (kernel/Restar&ClearOutput) and run it again."
   ]
  },
  {
   "cell_type": "markdown",
   "id": "82e51b2d",
   "metadata": {},
   "source": [
    "Before we look at the propagation benchmark in more detail, we introduce the L2-Sea model.\n",
    "\n",
    "## The L2-Sea model\n",
    "\n",
    "The L2-Sea model describes the calm-water resistance of a destroyer-type vessel by potential flow. Specifically, the vessel under investigation is the DTMB 5415 (at model scale), which is a widely used benchmark for towing tank experiments, CFD studies, and hull-form optimization, considering both deterministic and stochastic formulations.\n",
    "\n",
    "Potential flow solver is used to evaluate the hydrodynamic loads, based on the Laplacian equation\n",
    "\n",
    "\\begin{equation}\n",
    "\\nabla^2 \\phi = 0\n",
    "\\end{equation}\n",
    "\n",
    "where $\\phi$ is the *velocity scalar potential*, satisfying **u** $= \\nabla \\phi$ and **u** is the *flow velocity vector*. The velocity potential $\\phi$ is evaluated numerically through the Dawson linearization of the potential flow equations, using the boundary element method. Finally, the total resistance is estimated as the sum of the wave and the frictional resistance: the wave resistance component is estimated by integrating the pressure distribution over the hull surface, obtained using the Bernoulli theorem\n",
    "\n",
    "\\begin{equation}\n",
    "\\frac{p}{\\rho} + \\frac{(\\nabla \\phi)^2}{2} - gz = cost.\n",
    "\\end{equation}\n",
    " \n",
    "The frictional resistance component is estimated using a flat-plate approximation based on the local Reynolds number. For more details check the UM-Bridge documantation page of the [model](https://um-bridge-benchmarks.readthedocs.io/en/docs/models/l2-sea.html)."
   ]
  },
  {
   "cell_type": "markdown",
   "id": "edff8325",
   "metadata": {},
   "source": [
    "### Description of the UQ Benchmark\n",
    "\n",
    "The benchmark focuses on evaluating the expected value of the calm-water total resistance for the DTMB 5415 model scale, under the influence of uncertain operational parameters, specifically speed and payload. The payload is linked to the hull draft (D), and the speed is characterized by its non-dimensional counterpart, the Froude number (Fr).\n",
    "\n",
    "* The Froude number is modeled as a unimodal triangular random variable with support in the range $[Fr_a, Fr_b] = [0.25, 0.41]$, defined as follows:\n",
    "\n",
    "\\begin{equation}\n",
    "\\pi_{Fr}(t) = \\frac{2}{(Fr_b - Fr_a)^2} (Fr_b - t),\n",
    "\\end{equation}\n",
    "\n",
    "* The draft is modeled as a beta random variable with support in the interval $[D_a, D_b] = [-6.776, -5.544]$ and shape parameters $\\alpha = 10$ and $\\beta = 10$, i.e., $D \\sim \\text{Beta}(D_a, D_b, \\alpha, \\beta)$, which is expressed by:\n",
    "\n",
    "\\begin{equation}\n",
    "\\pi_T(t) = \\frac{\\Gamma(\\alpha + \\beta + 2)}{\\Gamma(\\alpha + 1) \\Gamma(\\beta + 1)} \\times (D_b - D_a)^{\\alpha + \\beta + 1} (t - D_a)^{\\alpha} (D_b - t)^{\\beta}.\n",
    "\\end{equation}\n"
   ]
  },
  {
   "cell_type": "markdown",
   "id": "bbda291b",
   "metadata": {},
   "source": [
    "In the [next notebook](https://github.com/MathSEE-Modeling-Week/Modeling-Week/blob/main/UQ/L2-benchmark_client.ipynb) we make use of the MC simulation to estimate the total resistance $R_T$. Make sure that the container is running here."
   ]
  },
  {
   "cell_type": "code",
   "execution_count": null,
   "id": "9c4f53e1",
   "metadata": {},
   "outputs": [],
   "source": []
  }
 ],
 "metadata": {
  "kernelspec": {
   "display_name": "Python 3 (ipykernel)",
   "language": "python",
   "name": "python3"
  },
  "language_info": {
   "codemirror_mode": {
    "name": "ipython",
    "version": 3
   },
   "file_extension": ".py",
   "mimetype": "text/x-python",
   "name": "python",
   "nbconvert_exporter": "python",
   "pygments_lexer": "ipython3",
   "version": "3.12.4"
  }
 },
 "nbformat": 4,
 "nbformat_minor": 5
}
