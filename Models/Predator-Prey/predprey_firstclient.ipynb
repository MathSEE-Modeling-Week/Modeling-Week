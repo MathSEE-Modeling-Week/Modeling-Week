{
 "cells": [
  {
   "cell_type": "markdown",
   "id": "22133806",
   "metadata": {},
   "source": [
    "## UM-Bridge Integration for Predator-Prey Model\n",
    "\n",
    "### First Client\n",
    "\n",
    "Now that the [server is running](https://github.com/MathSEE-Modeling-Week/Modeling-Week/blob/main/Models/Predator-Prey/predprey_server.ipynb), it is ready to receive requests from a client. Before making a model evaluation, you first need to connect to the model using the following code:"
   ]
  },
  {
   "cell_type": "code",
   "execution_count": 1,
   "id": "f27b5b19",
   "metadata": {},
   "outputs": [],
   "source": [
    "import umbridge\n",
    "model = umbridge.HTTPModel(\"http://0.0.0.0:4242\", \"forward\")"
   ]
  },
  {
   "cell_type": "markdown",
   "id": "2bb5ce41",
   "metadata": {},
   "source": [
    "Then you have to fix the model parameters $\\theta_1, \\theta_2, \\theta_{12}, \\theta_{21}$, choose a time point $t$ and set the inital values for prey $\\textbf{u}_0[0]$ and predator $\\textbf{u}_0[1]$. You can experiment with different points in time, initial conditions or parameters and see how the system changes."
   ]
  },
  {
   "cell_type": "code",
   "execution_count": 2,
   "id": "beebc103",
   "metadata": {},
   "outputs": [
    {
     "name": "stdout",
     "output_type": "stream",
     "text": [
      "[[1.4098300518932472, 2.2523325849320948]]\n"
     ]
    }
   ],
   "source": [
    "# parameters = [t, u0[0], u0[1], theta1, theta2, theta12, theta21]\n",
    "parameters = [6, 0.5, 2, 1, 1, 1, 1]\n",
    "print(model([parameters]))"
   ]
  },
  {
   "cell_type": "code",
   "execution_count": null,
   "id": "2ac7939f",
   "metadata": {},
   "outputs": [],
   "source": []
  }
 ],
 "metadata": {
  "kernelspec": {
   "display_name": "Python 3 (ipykernel)",
   "language": "python",
   "name": "python3"
  },
  "language_info": {
   "codemirror_mode": {
    "name": "ipython",
    "version": 3
   },
   "file_extension": ".py",
   "mimetype": "text/x-python",
   "name": "python",
   "nbconvert_exporter": "python",
   "pygments_lexer": "ipython3",
   "version": "3.12.4"
  }
 },
 "nbformat": 4,
 "nbformat_minor": 5
}
