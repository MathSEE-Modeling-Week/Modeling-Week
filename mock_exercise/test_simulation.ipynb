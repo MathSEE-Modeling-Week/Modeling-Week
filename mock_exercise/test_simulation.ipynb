{
 "cells": [
  {
   "cell_type": "code",
   "execution_count": 19,
   "id": "1fa45d38-4f2b-4dbe-b230-5fc9f2df984c",
   "metadata": {},
   "outputs": [],
   "source": [
    "import pytest\n",
    "\n",
    "def test_estimate_pi():\n",
    "    # Load the Jupyter Notebook containing the estimate_pi function\n",
    "    %run monte_carlo_simulation.ipynb\n",
    "\n",
    "    # Your test code here\n",
    "    # Number of points for testing\n",
    "    num_points = 1000000\n",
    "    \n",
    "    # Expected value of pi (within 3 decimal places)\n",
    "    expected_pi = 3.141\n",
    "\n",
    "    # Calculate estimated value of pi\n",
    "    pi_estimate = estimate_pi(num_points)\n",
    "    \n",
    "    # Assert that the estimated value of pi is close to the expected value\n",
    "    assert (round(pi_estimate, 3) - expected_pi) > 0.01\n",
    "    pass\n",
    "\n",
    "if __name__ == \"__main__\":\n",
    "    test_estimate_pi()"
   ]
  },
  {
   "cell_type": "code",
   "execution_count": null,
   "id": "fbabd622-118b-4ece-89ae-c2039a5cffb1",
   "metadata": {},
   "outputs": [],
   "source": []
  },
  {
   "cell_type": "code",
   "execution_count": null,
   "id": "48c7f4da-b8ff-4f45-a335-1ab3a8a4c405",
   "metadata": {},
   "outputs": [],
   "source": []
  },
  {
   "cell_type": "code",
   "execution_count": null,
   "id": "6b299f69-2789-45bf-863d-5e5e23c2a3b0",
   "metadata": {},
   "outputs": [],
   "source": []
  }
 ],
 "metadata": {
  "kernelspec": {
   "display_name": "Python 3 (ipykernel)",
   "language": "python",
   "name": "python3"
  },
  "language_info": {
   "codemirror_mode": {
    "name": "ipython",
    "version": 3
   },
   "file_extension": ".py",
   "mimetype": "text/x-python",
   "name": "python",
   "nbconvert_exporter": "python",
   "pygments_lexer": "ipython3",
   "version": "3.10.12"
  }
 },
 "nbformat": 4,
 "nbformat_minor": 5
}

